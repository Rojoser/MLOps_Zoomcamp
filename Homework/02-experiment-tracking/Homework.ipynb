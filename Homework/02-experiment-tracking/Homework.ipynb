{
 "cells": [
  {
   "cell_type": "code",
   "execution_count": 7,
   "metadata": {},
   "outputs": [
    {
     "data": {
      "text/plain": [
       "'2.12.2'"
      ]
     },
     "execution_count": 7,
     "metadata": {},
     "output_type": "execute_result"
    }
   ],
   "source": [
    "# 02 Experiment Tracking\n",
    "\n",
    "## Q1 Install mlFlow and check the version\n",
    "import mlflow\n",
    "mlflow.__version__"
   ]
  },
  {
   "cell_type": "code",
   "execution_count": 6,
   "metadata": {},
   "outputs": [
    {
     "data": {
      "text/plain": [
       "'Total files created: 4 files.'"
      ]
     },
     "execution_count": 6,
     "metadata": {},
     "output_type": "execute_result"
    }
   ],
   "source": [
    "## Q2\n",
    "# execute python preprocess_data.py --raw_data_path ./data --dest_path ./output\n",
    "\n",
    "import os\n",
    "f\"Total files created: {len(os.listdir('./output'))} files.\"\n",
    "\n",
    "#import os\n",
    "#print(f'DictVectorizer file (dv.pkl) has size {os.path.getsize(\"./output/dv.pkl\")/1000} kB')"
   ]
  },
  {
   "cell_type": "code",
   "execution_count": 8,
   "metadata": {},
   "outputs": [],
   "source": [
    "## Q3\n",
    "# run the mlflow backend uri: mlflow ui --backend-store-uri sqlite:///mlflow.db\n",
    "# execute python train.py\n",
    "\n",
    "# Navigating the mlflow @ 127.0.0.1 for experiment \"nyc_taxi_experiment\" we can see how the autologger run gives un 2 for the min_samples_split parameter"
   ]
  },
  {
   "cell_type": "code",
   "execution_count": null,
   "metadata": {},
   "outputs": [],
   "source": [
    "## Q5\n",
    "\n",
    "# run the mlflow backend uri: mlflow ui --backend-store-uri sqlite:///mlflow.db\n",
    "# execute python hpo.py\n",
    "\n",
    "# Best result: 2.4497\n"
   ]
  },
  {
   "cell_type": "code",
   "execution_count": null,
   "metadata": {},
   "outputs": [],
   "source": [
    "import subprocess\n",
    "from src.train import run_train\n",
    "\n",
    "MLFLOW_TRACKING_URI = \"sqlite:///src/mlflow.db\"\n",
    "\n",
    "subprocess.Popen([\"mlflow\", \"ui\", \"--backend-store-uri\", MLFLOW_TRACKING_URI])\n"
   ]
  },
  {
   "cell_type": "code",
   "execution_count": 3,
   "metadata": {},
   "outputs": [
    {
     "ename": "ModuleNotFoundError",
     "evalue": "No module named 'hyperopt'",
     "output_type": "error",
     "traceback": [
      "\u001b[0;31m---------------------------------------------------------------------------\u001b[0m",
      "\u001b[0;31mModuleNotFoundError\u001b[0m                       Traceback (most recent call last)",
      "Cell \u001b[0;32mIn [3], line 2\u001b[0m\n\u001b[1;32m      1\u001b[0m \u001b[38;5;66;03m#import xgboost as xgb\u001b[39;00m\n\u001b[0;32m----> 2\u001b[0m \u001b[38;5;28;01mfrom\u001b[39;00m \u001b[38;5;21;01mhyperopt\u001b[39;00m \u001b[38;5;28;01mimport\u001b[39;00m fmin, tpe, hp, STATUS_OK, trials\n",
      "\u001b[0;31mModuleNotFoundError\u001b[0m: No module named 'hyperopt'"
     ]
    }
   ],
   "source": [
    "import xgboost as xgb\n",
    "from hyperopt import fmin, tpe, hp, STATUS_OK, trials"
   ]
  },
  {
   "cell_type": "code",
   "execution_count": null,
   "metadata": {},
   "outputs": [],
   "source": [
    "\n",
    "from train import load_pickle\n",
    "import os\n",
    "from sklearn.ensemble import RandomForestRegressor\n",
    "from sklearn.metrics import mean_squared_error\n",
    "\n",
    "\n",
    "data_path = './output'"
   ]
  },
  {
   "cell_type": "code",
   "execution_count": 6,
   "metadata": {},
   "outputs": [
    {
     "name": "stderr",
     "output_type": "stream",
     "text": [
      "2024/05/21 23:34:53 INFO mlflow.store.db.utils: Creating initial MLflow database tables...\n",
      "2024/05/21 23:34:53 INFO mlflow.store.db.utils: Updating database tables\n",
      "INFO  [alembic.runtime.migration] Context impl SQLiteImpl.\n",
      "INFO  [alembic.runtime.migration] Will assume non-transactional DDL.\n"
     ]
    },
    {
     "ename": "CommandError",
     "evalue": "Can't locate revision identified by '867495a8f9d4'",
     "output_type": "error",
     "traceback": [
      "\u001b[0;31m---------------------------------------------------------------------------\u001b[0m",
      "\u001b[0;31mResolutionError\u001b[0m                           Traceback (most recent call last)",
      "File \u001b[0;32m~/anaconda3/envs/ds_toolkit/lib/python3.11/site-packages/alembic/script/base.py:233\u001b[0m, in \u001b[0;36mScriptDirectory._catch_revision_errors\u001b[0;34m(self, ancestor, multiple_heads, start, end, resolution)\u001b[0m\n\u001b[1;32m    232\u001b[0m \u001b[38;5;28;01mtry\u001b[39;00m:\n\u001b[0;32m--> 233\u001b[0m     \u001b[38;5;28;01myield\u001b[39;00m\n\u001b[1;32m    234\u001b[0m \u001b[38;5;28;01mexcept\u001b[39;00m revision\u001b[38;5;241m.\u001b[39mRangeNotAncestorError \u001b[38;5;28;01mas\u001b[39;00m rna:\n",
      "File \u001b[0;32m~/anaconda3/envs/ds_toolkit/lib/python3.11/site-packages/alembic/script/base.py:443\u001b[0m, in \u001b[0;36mScriptDirectory._upgrade_revs\u001b[0;34m(self, destination, current_rev)\u001b[0m\n\u001b[1;32m    436\u001b[0m revs \u001b[38;5;241m=\u001b[39m \u001b[38;5;28mself\u001b[39m\u001b[38;5;241m.\u001b[39miterate_revisions(\n\u001b[1;32m    437\u001b[0m     destination, current_rev, implicit_base\u001b[38;5;241m=\u001b[39m\u001b[38;5;28;01mTrue\u001b[39;00m\n\u001b[1;32m    438\u001b[0m )\n\u001b[1;32m    439\u001b[0m \u001b[38;5;28;01mreturn\u001b[39;00m [\n\u001b[1;32m    440\u001b[0m     migration\u001b[38;5;241m.\u001b[39mMigrationStep\u001b[38;5;241m.\u001b[39mupgrade_from_script(\n\u001b[1;32m    441\u001b[0m         \u001b[38;5;28mself\u001b[39m\u001b[38;5;241m.\u001b[39mrevision_map, script\n\u001b[1;32m    442\u001b[0m     )\n\u001b[0;32m--> 443\u001b[0m     \u001b[38;5;28;01mfor\u001b[39;00m script \u001b[38;5;129;01min\u001b[39;00m \u001b[38;5;28mreversed\u001b[39m(\u001b[38;5;28mlist\u001b[39m(revs))\n\u001b[1;32m    444\u001b[0m ]\n",
      "File \u001b[0;32m~/anaconda3/envs/ds_toolkit/lib/python3.11/site-packages/alembic/script/revision.py:799\u001b[0m, in \u001b[0;36mRevisionMap.iterate_revisions\u001b[0;34m(self, upper, lower, implicit_base, inclusive, assert_relative_length, select_for_downgrade)\u001b[0m\n\u001b[1;32m    797\u001b[0m     fn \u001b[38;5;241m=\u001b[39m \u001b[38;5;28mself\u001b[39m\u001b[38;5;241m.\u001b[39m_collect_upgrade_revisions\n\u001b[0;32m--> 799\u001b[0m revisions, heads \u001b[38;5;241m=\u001b[39m fn(\n\u001b[1;32m    800\u001b[0m     upper,\n\u001b[1;32m    801\u001b[0m     lower,\n\u001b[1;32m    802\u001b[0m     inclusive\u001b[38;5;241m=\u001b[39minclusive,\n\u001b[1;32m    803\u001b[0m     implicit_base\u001b[38;5;241m=\u001b[39mimplicit_base,\n\u001b[1;32m    804\u001b[0m     assert_relative_length\u001b[38;5;241m=\u001b[39massert_relative_length,\n\u001b[1;32m    805\u001b[0m )\n\u001b[1;32m    807\u001b[0m \u001b[38;5;28;01mfor\u001b[39;00m node \u001b[38;5;129;01min\u001b[39;00m \u001b[38;5;28mself\u001b[39m\u001b[38;5;241m.\u001b[39m_topological_sort(revisions, heads):\n",
      "File \u001b[0;32m~/anaconda3/envs/ds_toolkit/lib/python3.11/site-packages/alembic/script/revision.py:1454\u001b[0m, in \u001b[0;36mRevisionMap._collect_upgrade_revisions\u001b[0;34m(self, upper, lower, inclusive, implicit_base, assert_relative_length)\u001b[0m\n\u001b[1;32m   1448\u001b[0m required_node_set \u001b[38;5;241m=\u001b[39m \u001b[38;5;28mset\u001b[39m(\n\u001b[1;32m   1449\u001b[0m     \u001b[38;5;28mself\u001b[39m\u001b[38;5;241m.\u001b[39m_get_ancestor_nodes(\n\u001b[1;32m   1450\u001b[0m         targets, check\u001b[38;5;241m=\u001b[39m\u001b[38;5;28;01mTrue\u001b[39;00m, include_dependencies\u001b[38;5;241m=\u001b[39m\u001b[38;5;28;01mTrue\u001b[39;00m\n\u001b[1;32m   1451\u001b[0m     )\n\u001b[1;32m   1452\u001b[0m )\u001b[38;5;241m.\u001b[39munion(targets)\n\u001b[0;32m-> 1454\u001b[0m current_revisions \u001b[38;5;241m=\u001b[39m \u001b[38;5;28mself\u001b[39m\u001b[38;5;241m.\u001b[39mget_revisions(lower)\n\u001b[1;32m   1455\u001b[0m \u001b[38;5;28;01mif\u001b[39;00m \u001b[38;5;129;01mnot\u001b[39;00m implicit_base \u001b[38;5;129;01mand\u001b[39;00m \u001b[38;5;28many\u001b[39m(\n\u001b[1;32m   1456\u001b[0m     rev \u001b[38;5;129;01mnot\u001b[39;00m \u001b[38;5;129;01min\u001b[39;00m required_node_set\n\u001b[1;32m   1457\u001b[0m     \u001b[38;5;28;01mfor\u001b[39;00m rev \u001b[38;5;129;01min\u001b[39;00m current_revisions\n\u001b[1;32m   1458\u001b[0m     \u001b[38;5;28;01mif\u001b[39;00m rev \u001b[38;5;129;01mis\u001b[39;00m \u001b[38;5;129;01mnot\u001b[39;00m \u001b[38;5;28;01mNone\u001b[39;00m\n\u001b[1;32m   1459\u001b[0m ):\n",
      "File \u001b[0;32m~/anaconda3/envs/ds_toolkit/lib/python3.11/site-packages/alembic/script/revision.py:527\u001b[0m, in \u001b[0;36mRevisionMap.get_revisions\u001b[0;34m(self, id_)\u001b[0m\n\u001b[1;32m    526\u001b[0m \u001b[38;5;28;01mif\u001b[39;00m \u001b[38;5;28misinstance\u001b[39m(id_, (\u001b[38;5;28mlist\u001b[39m, \u001b[38;5;28mtuple\u001b[39m, \u001b[38;5;28mset\u001b[39m, \u001b[38;5;28mfrozenset\u001b[39m)):\n\u001b[0;32m--> 527\u001b[0m     \u001b[38;5;28;01mreturn\u001b[39;00m \u001b[38;5;28msum\u001b[39m([\u001b[38;5;28mself\u001b[39m\u001b[38;5;241m.\u001b[39mget_revisions(id_elem) \u001b[38;5;28;01mfor\u001b[39;00m id_elem \u001b[38;5;129;01min\u001b[39;00m id_], ())\n\u001b[1;32m    528\u001b[0m \u001b[38;5;28;01melse\u001b[39;00m:\n",
      "File \u001b[0;32m~/anaconda3/envs/ds_toolkit/lib/python3.11/site-packages/alembic/script/revision.py:527\u001b[0m, in \u001b[0;36m<listcomp>\u001b[0;34m(.0)\u001b[0m\n\u001b[1;32m    526\u001b[0m \u001b[38;5;28;01mif\u001b[39;00m \u001b[38;5;28misinstance\u001b[39m(id_, (\u001b[38;5;28mlist\u001b[39m, \u001b[38;5;28mtuple\u001b[39m, \u001b[38;5;28mset\u001b[39m, \u001b[38;5;28mfrozenset\u001b[39m)):\n\u001b[0;32m--> 527\u001b[0m     \u001b[38;5;28;01mreturn\u001b[39;00m \u001b[38;5;28msum\u001b[39m([\u001b[38;5;28mself\u001b[39m\u001b[38;5;241m.\u001b[39mget_revisions(id_elem) \u001b[38;5;28;01mfor\u001b[39;00m id_elem \u001b[38;5;129;01min\u001b[39;00m id_], ())\n\u001b[1;32m    528\u001b[0m \u001b[38;5;28;01melse\u001b[39;00m:\n",
      "File \u001b[0;32m~/anaconda3/envs/ds_toolkit/lib/python3.11/site-packages/alembic/script/revision.py:552\u001b[0m, in \u001b[0;36mRevisionMap.get_revisions\u001b[0;34m(self, id_)\u001b[0m\n\u001b[1;32m    551\u001b[0m         \u001b[38;5;28;01mpass\u001b[39;00m\n\u001b[0;32m--> 552\u001b[0m \u001b[38;5;28;01mreturn\u001b[39;00m \u001b[38;5;28mtuple\u001b[39m(\n\u001b[1;32m    553\u001b[0m     \u001b[38;5;28mself\u001b[39m\u001b[38;5;241m.\u001b[39m_revision_for_ident(rev_id, branch_label)\n\u001b[1;32m    554\u001b[0m     \u001b[38;5;28;01mfor\u001b[39;00m rev_id \u001b[38;5;129;01min\u001b[39;00m resolved_id\n\u001b[1;32m    555\u001b[0m )\n",
      "File \u001b[0;32m~/anaconda3/envs/ds_toolkit/lib/python3.11/site-packages/alembic/script/revision.py:553\u001b[0m, in \u001b[0;36m<genexpr>\u001b[0;34m(.0)\u001b[0m\n\u001b[1;32m    551\u001b[0m         \u001b[38;5;28;01mpass\u001b[39;00m\n\u001b[1;32m    552\u001b[0m \u001b[38;5;28;01mreturn\u001b[39;00m \u001b[38;5;28mtuple\u001b[39m(\n\u001b[0;32m--> 553\u001b[0m     \u001b[38;5;28mself\u001b[39m\u001b[38;5;241m.\u001b[39m_revision_for_ident(rev_id, branch_label)\n\u001b[1;32m    554\u001b[0m     \u001b[38;5;28;01mfor\u001b[39;00m rev_id \u001b[38;5;129;01min\u001b[39;00m resolved_id\n\u001b[1;32m    555\u001b[0m )\n",
      "File \u001b[0;32m~/anaconda3/envs/ds_toolkit/lib/python3.11/site-packages/alembic/script/revision.py:624\u001b[0m, in \u001b[0;36mRevisionMap._revision_for_ident\u001b[0;34m(self, resolved_id, check_branch)\u001b[0m\n\u001b[1;32m    623\u001b[0m \u001b[38;5;28;01mif\u001b[39;00m \u001b[38;5;129;01mnot\u001b[39;00m revs:\n\u001b[0;32m--> 624\u001b[0m     \u001b[38;5;28;01mraise\u001b[39;00m ResolutionError(\n\u001b[1;32m    625\u001b[0m         \u001b[38;5;124m\"\u001b[39m\u001b[38;5;124mNo such revision or branch \u001b[39m\u001b[38;5;124m'\u001b[39m\u001b[38;5;132;01m%s\u001b[39;00m\u001b[38;5;124m'\u001b[39m\u001b[38;5;132;01m%s\u001b[39;00m\u001b[38;5;124m\"\u001b[39m\n\u001b[1;32m    626\u001b[0m         \u001b[38;5;241m%\u001b[39m (\n\u001b[1;32m    627\u001b[0m             resolved_id,\n\u001b[1;32m    628\u001b[0m             (\n\u001b[1;32m    629\u001b[0m                 \u001b[38;5;124m\"\u001b[39m\u001b[38;5;124m; please ensure at least four characters are \u001b[39m\u001b[38;5;124m\"\u001b[39m\n\u001b[1;32m    630\u001b[0m                 \u001b[38;5;124m\"\u001b[39m\u001b[38;5;124mpresent for partial revision identifier matches\u001b[39m\u001b[38;5;124m\"\u001b[39m\n\u001b[1;32m    631\u001b[0m                 \u001b[38;5;28;01mif\u001b[39;00m \u001b[38;5;28mlen\u001b[39m(resolved_id) \u001b[38;5;241m<\u001b[39m \u001b[38;5;241m4\u001b[39m\n\u001b[1;32m    632\u001b[0m                 \u001b[38;5;28;01melse\u001b[39;00m \u001b[38;5;124m\"\u001b[39m\u001b[38;5;124m\"\u001b[39m\n\u001b[1;32m    633\u001b[0m             ),\n\u001b[1;32m    634\u001b[0m         ),\n\u001b[1;32m    635\u001b[0m         resolved_id,\n\u001b[1;32m    636\u001b[0m     )\n\u001b[1;32m    637\u001b[0m \u001b[38;5;28;01melif\u001b[39;00m \u001b[38;5;28mlen\u001b[39m(revs) \u001b[38;5;241m>\u001b[39m \u001b[38;5;241m1\u001b[39m:\n",
      "\u001b[0;31mResolutionError\u001b[0m: No such revision or branch '867495a8f9d4'",
      "\nThe above exception was the direct cause of the following exception:\n",
      "\u001b[0;31mCommandError\u001b[0m                              Traceback (most recent call last)",
      "Cell \u001b[0;32mIn [6], line 2\u001b[0m\n\u001b[1;32m      1\u001b[0m mlflow\u001b[38;5;241m.\u001b[39mset_tracking_uri(\u001b[38;5;124m\"\u001b[39m\u001b[38;5;124msqlite:///mlflow.db\u001b[39m\u001b[38;5;124m\"\u001b[39m)\n\u001b[0;32m----> 2\u001b[0m mlflow\u001b[38;5;241m.\u001b[39mset_experiment(\u001b[38;5;124m\"\u001b[39m\u001b[38;5;124mnyc_taxi_experiment\u001b[39m\u001b[38;5;124m\"\u001b[39m)\n\u001b[1;32m      5\u001b[0m X_train, y_train \u001b[38;5;241m=\u001b[39m load_pickle(os\u001b[38;5;241m.\u001b[39mpath\u001b[38;5;241m.\u001b[39mjoin(data_path, \u001b[38;5;124m\"\u001b[39m\u001b[38;5;124mtrain.pkl\u001b[39m\u001b[38;5;124m\"\u001b[39m))\n\u001b[1;32m      6\u001b[0m X_val, y_val \u001b[38;5;241m=\u001b[39m load_pickle(os\u001b[38;5;241m.\u001b[39mpath\u001b[38;5;241m.\u001b[39mjoin(data_path, \u001b[38;5;124m\"\u001b[39m\u001b[38;5;124mval.pkl\u001b[39m\u001b[38;5;124m\"\u001b[39m))\n",
      "File \u001b[0;32m~/anaconda3/envs/ds_toolkit/lib/python3.11/site-packages/mlflow/tracking/fluent.py:141\u001b[0m, in \u001b[0;36mset_experiment\u001b[0;34m(experiment_name, experiment_id)\u001b[0m\n\u001b[1;32m    133\u001b[0m \u001b[38;5;28;01mif\u001b[39;00m (experiment_name \u001b[38;5;129;01mis\u001b[39;00m \u001b[38;5;129;01mnot\u001b[39;00m \u001b[38;5;28;01mNone\u001b[39;00m \u001b[38;5;129;01mand\u001b[39;00m experiment_id \u001b[38;5;129;01mis\u001b[39;00m \u001b[38;5;129;01mnot\u001b[39;00m \u001b[38;5;28;01mNone\u001b[39;00m) \u001b[38;5;129;01mor\u001b[39;00m (\n\u001b[1;32m    134\u001b[0m     experiment_name \u001b[38;5;129;01mis\u001b[39;00m \u001b[38;5;28;01mNone\u001b[39;00m \u001b[38;5;129;01mand\u001b[39;00m experiment_id \u001b[38;5;129;01mis\u001b[39;00m \u001b[38;5;28;01mNone\u001b[39;00m\n\u001b[1;32m    135\u001b[0m ):\n\u001b[1;32m    136\u001b[0m     \u001b[38;5;28;01mraise\u001b[39;00m MlflowException(\n\u001b[1;32m    137\u001b[0m         message\u001b[38;5;241m=\u001b[39m\u001b[38;5;124m\"\u001b[39m\u001b[38;5;124mMust specify exactly one of: `experiment_id` or `experiment_name`.\u001b[39m\u001b[38;5;124m\"\u001b[39m,\n\u001b[1;32m    138\u001b[0m         error_code\u001b[38;5;241m=\u001b[39mINVALID_PARAMETER_VALUE,\n\u001b[1;32m    139\u001b[0m     )\n\u001b[0;32m--> 141\u001b[0m client \u001b[38;5;241m=\u001b[39m MlflowClient()\n\u001b[1;32m    142\u001b[0m \u001b[38;5;28;01mif\u001b[39;00m experiment_id \u001b[38;5;129;01mis\u001b[39;00m \u001b[38;5;28;01mNone\u001b[39;00m:\n\u001b[1;32m    143\u001b[0m     experiment \u001b[38;5;241m=\u001b[39m client\u001b[38;5;241m.\u001b[39mget_experiment_by_name(experiment_name)\n",
      "File \u001b[0;32m~/anaconda3/envs/ds_toolkit/lib/python3.11/site-packages/mlflow/tracking/client.py:100\u001b[0m, in \u001b[0;36mMlflowClient.__init__\u001b[0;34m(self, tracking_uri, registry_uri)\u001b[0m\n\u001b[1;32m     98\u001b[0m final_tracking_uri \u001b[38;5;241m=\u001b[39m utils\u001b[38;5;241m.\u001b[39m_resolve_tracking_uri(tracking_uri)\n\u001b[1;32m     99\u001b[0m \u001b[38;5;28mself\u001b[39m\u001b[38;5;241m.\u001b[39m_registry_uri \u001b[38;5;241m=\u001b[39m registry_utils\u001b[38;5;241m.\u001b[39m_resolve_registry_uri(registry_uri, tracking_uri)\n\u001b[0;32m--> 100\u001b[0m \u001b[38;5;28mself\u001b[39m\u001b[38;5;241m.\u001b[39m_tracking_client \u001b[38;5;241m=\u001b[39m TrackingServiceClient(final_tracking_uri)\n",
      "File \u001b[0;32m~/anaconda3/envs/ds_toolkit/lib/python3.11/site-packages/mlflow/tracking/_tracking_service/client.py:50\u001b[0m, in \u001b[0;36mTrackingServiceClient.__init__\u001b[0;34m(self, tracking_uri)\u001b[0m\n\u001b[1;32m     45\u001b[0m \u001b[38;5;28mself\u001b[39m\u001b[38;5;241m.\u001b[39mtracking_uri \u001b[38;5;241m=\u001b[39m tracking_uri\n\u001b[1;32m     46\u001b[0m \u001b[38;5;66;03m# NB: Fetch the tracking store (`self.store`) upon client initialization to ensure that\u001b[39;00m\n\u001b[1;32m     47\u001b[0m \u001b[38;5;66;03m# the tracking URI is valid and the store can be properly resolved. We define `store` as a\u001b[39;00m\n\u001b[1;32m     48\u001b[0m \u001b[38;5;66;03m# property method to ensure that the client is serializable, even if the store is not\u001b[39;00m\n\u001b[1;32m     49\u001b[0m \u001b[38;5;66;03m# self.store\u001b[39;00m\n\u001b[0;32m---> 50\u001b[0m \u001b[38;5;28mself\u001b[39m\u001b[38;5;241m.\u001b[39mstore\n",
      "File \u001b[0;32m~/anaconda3/envs/ds_toolkit/lib/python3.11/site-packages/mlflow/tracking/_tracking_service/client.py:54\u001b[0m, in \u001b[0;36mTrackingServiceClient.store\u001b[0;34m(self)\u001b[0m\n\u001b[1;32m     52\u001b[0m \u001b[38;5;129m@property\u001b[39m\n\u001b[1;32m     53\u001b[0m \u001b[38;5;28;01mdef\u001b[39;00m \u001b[38;5;21mstore\u001b[39m(\u001b[38;5;28mself\u001b[39m):\n\u001b[0;32m---> 54\u001b[0m     \u001b[38;5;28;01mreturn\u001b[39;00m utils\u001b[38;5;241m.\u001b[39m_get_store(\u001b[38;5;28mself\u001b[39m\u001b[38;5;241m.\u001b[39mtracking_uri)\n",
      "File \u001b[0;32m~/anaconda3/envs/ds_toolkit/lib/python3.11/site-packages/mlflow/tracking/_tracking_service/utils.py:197\u001b[0m, in \u001b[0;36m_get_store\u001b[0;34m(store_uri, artifact_uri)\u001b[0m\n\u001b[1;32m    196\u001b[0m \u001b[38;5;28;01mdef\u001b[39;00m \u001b[38;5;21m_get_store\u001b[39m(store_uri\u001b[38;5;241m=\u001b[39m\u001b[38;5;28;01mNone\u001b[39;00m, artifact_uri\u001b[38;5;241m=\u001b[39m\u001b[38;5;28;01mNone\u001b[39;00m):\n\u001b[0;32m--> 197\u001b[0m     \u001b[38;5;28;01mreturn\u001b[39;00m _tracking_store_registry\u001b[38;5;241m.\u001b[39mget_store(store_uri, artifact_uri)\n",
      "File \u001b[0;32m~/anaconda3/envs/ds_toolkit/lib/python3.11/site-packages/mlflow/tracking/_tracking_service/registry.py:42\u001b[0m, in \u001b[0;36mTrackingStoreRegistry.get_store\u001b[0;34m(self, store_uri, artifact_uri)\u001b[0m\n\u001b[1;32m     39\u001b[0m \u001b[38;5;28;01mfrom\u001b[39;00m \u001b[38;5;21;01mmlflow\u001b[39;00m\u001b[38;5;21;01m.\u001b[39;00m\u001b[38;5;21;01mtracking\u001b[39;00m\u001b[38;5;21;01m.\u001b[39;00m\u001b[38;5;21;01m_tracking_service\u001b[39;00m \u001b[38;5;28;01mimport\u001b[39;00m utils\n\u001b[1;32m     41\u001b[0m resolved_store_uri \u001b[38;5;241m=\u001b[39m utils\u001b[38;5;241m.\u001b[39m_resolve_tracking_uri(store_uri)\n\u001b[0;32m---> 42\u001b[0m \u001b[38;5;28;01mreturn\u001b[39;00m \u001b[38;5;28mself\u001b[39m\u001b[38;5;241m.\u001b[39m_get_store_with_resolved_uri(resolved_store_uri, artifact_uri)\n",
      "File \u001b[0;32m~/anaconda3/envs/ds_toolkit/lib/python3.11/site-packages/mlflow/tracking/_tracking_service/registry.py:52\u001b[0m, in \u001b[0;36mTrackingStoreRegistry._get_store_with_resolved_uri\u001b[0;34m(self, resolved_store_uri, artifact_uri)\u001b[0m\n\u001b[1;32m     46\u001b[0m \u001b[38;5;124;03m\"\"\"\u001b[39;00m\n\u001b[1;32m     47\u001b[0m \u001b[38;5;124;03mRetrieve the store associated with a resolved (non-None) store URI and an artifact URI.\u001b[39;00m\n\u001b[1;32m     48\u001b[0m \u001b[38;5;124;03mCaching is done on resolved URIs because the meaning of an unresolved (None) URI may change\u001b[39;00m\n\u001b[1;32m     49\u001b[0m \u001b[38;5;124;03mdepending on external configuration, such as environment variables\u001b[39;00m\n\u001b[1;32m     50\u001b[0m \u001b[38;5;124;03m\"\"\"\u001b[39;00m\n\u001b[1;32m     51\u001b[0m builder \u001b[38;5;241m=\u001b[39m \u001b[38;5;28mself\u001b[39m\u001b[38;5;241m.\u001b[39mget_store_builder(resolved_store_uri)\n\u001b[0;32m---> 52\u001b[0m \u001b[38;5;28;01mreturn\u001b[39;00m builder(store_uri\u001b[38;5;241m=\u001b[39mresolved_store_uri, artifact_uri\u001b[38;5;241m=\u001b[39martifact_uri)\n",
      "File \u001b[0;32m~/anaconda3/envs/ds_toolkit/lib/python3.11/site-packages/mlflow/tracking/_tracking_service/utils.py:130\u001b[0m, in \u001b[0;36m_get_sqlalchemy_store\u001b[0;34m(store_uri, artifact_uri)\u001b[0m\n\u001b[1;32m    128\u001b[0m \u001b[38;5;28;01mif\u001b[39;00m artifact_uri \u001b[38;5;129;01mis\u001b[39;00m \u001b[38;5;28;01mNone\u001b[39;00m:\n\u001b[1;32m    129\u001b[0m     artifact_uri \u001b[38;5;241m=\u001b[39m DEFAULT_LOCAL_FILE_AND_ARTIFACT_PATH\n\u001b[0;32m--> 130\u001b[0m \u001b[38;5;28;01mreturn\u001b[39;00m SqlAlchemyStore(store_uri, artifact_uri)\n",
      "File \u001b[0;32m~/anaconda3/envs/ds_toolkit/lib/python3.11/site-packages/mlflow/store/tracking/sqlalchemy_store.py:157\u001b[0m, in \u001b[0;36mSqlAlchemyStore.__init__\u001b[0;34m(self, db_uri, default_artifact_root)\u001b[0m\n\u001b[1;32m    153\u001b[0m \u001b[38;5;66;03m# On a completely fresh MLflow installation against an empty database (verify database\u001b[39;00m\n\u001b[1;32m    154\u001b[0m \u001b[38;5;66;03m# emptiness by checking that 'experiments' etc aren't in the list of table names), run all\u001b[39;00m\n\u001b[1;32m    155\u001b[0m \u001b[38;5;66;03m# DB migrations\u001b[39;00m\n\u001b[1;32m    156\u001b[0m \u001b[38;5;28;01mif\u001b[39;00m \u001b[38;5;129;01mnot\u001b[39;00m mlflow\u001b[38;5;241m.\u001b[39mstore\u001b[38;5;241m.\u001b[39mdb\u001b[38;5;241m.\u001b[39mutils\u001b[38;5;241m.\u001b[39m_all_tables_exist(\u001b[38;5;28mself\u001b[39m\u001b[38;5;241m.\u001b[39mengine):\n\u001b[0;32m--> 157\u001b[0m     mlflow\u001b[38;5;241m.\u001b[39mstore\u001b[38;5;241m.\u001b[39mdb\u001b[38;5;241m.\u001b[39mutils\u001b[38;5;241m.\u001b[39m_initialize_tables(\u001b[38;5;28mself\u001b[39m\u001b[38;5;241m.\u001b[39mengine)\n\u001b[1;32m    158\u001b[0m SessionMaker \u001b[38;5;241m=\u001b[39m sqlalchemy\u001b[38;5;241m.\u001b[39morm\u001b[38;5;241m.\u001b[39msessionmaker(bind\u001b[38;5;241m=\u001b[39m\u001b[38;5;28mself\u001b[39m\u001b[38;5;241m.\u001b[39mengine)\n\u001b[1;32m    159\u001b[0m \u001b[38;5;28mself\u001b[39m\u001b[38;5;241m.\u001b[39mManagedSessionMaker \u001b[38;5;241m=\u001b[39m mlflow\u001b[38;5;241m.\u001b[39mstore\u001b[38;5;241m.\u001b[39mdb\u001b[38;5;241m.\u001b[39mutils\u001b[38;5;241m.\u001b[39m_get_managed_session_maker(\n\u001b[1;32m    160\u001b[0m     SessionMaker, \u001b[38;5;28mself\u001b[39m\u001b[38;5;241m.\u001b[39mdb_type\n\u001b[1;32m    161\u001b[0m )\n",
      "File \u001b[0;32m~/anaconda3/envs/ds_toolkit/lib/python3.11/site-packages/mlflow/store/db/utils.py:92\u001b[0m, in \u001b[0;36m_initialize_tables\u001b[0;34m(engine)\u001b[0m\n\u001b[1;32m     90\u001b[0m _logger\u001b[38;5;241m.\u001b[39minfo(\u001b[38;5;124m\"\u001b[39m\u001b[38;5;124mCreating initial MLflow database tables...\u001b[39m\u001b[38;5;124m\"\u001b[39m)\n\u001b[1;32m     91\u001b[0m InitialBase\u001b[38;5;241m.\u001b[39mmetadata\u001b[38;5;241m.\u001b[39mcreate_all(engine)\n\u001b[0;32m---> 92\u001b[0m _upgrade_db(engine)\n",
      "File \u001b[0;32m~/anaconda3/envs/ds_toolkit/lib/python3.11/site-packages/mlflow/store/db/utils.py:217\u001b[0m, in \u001b[0;36m_upgrade_db\u001b[0;34m(engine)\u001b[0m\n\u001b[1;32m    215\u001b[0m \u001b[38;5;28;01mwith\u001b[39;00m engine\u001b[38;5;241m.\u001b[39mbegin() \u001b[38;5;28;01mas\u001b[39;00m connection:\n\u001b[1;32m    216\u001b[0m     config\u001b[38;5;241m.\u001b[39mattributes[\u001b[38;5;124m\"\u001b[39m\u001b[38;5;124mconnection\u001b[39m\u001b[38;5;124m\"\u001b[39m] \u001b[38;5;241m=\u001b[39m connection\n\u001b[0;32m--> 217\u001b[0m     command\u001b[38;5;241m.\u001b[39mupgrade(config, \u001b[38;5;124m\"\u001b[39m\u001b[38;5;124mheads\u001b[39m\u001b[38;5;124m\"\u001b[39m)\n",
      "File \u001b[0;32m~/anaconda3/envs/ds_toolkit/lib/python3.11/site-packages/alembic/command.py:322\u001b[0m, in \u001b[0;36mupgrade\u001b[0;34m(config, revision, sql, tag)\u001b[0m\n\u001b[1;32m    311\u001b[0m     \u001b[38;5;28;01mreturn\u001b[39;00m script\u001b[38;5;241m.\u001b[39m_upgrade_revs(revision, rev)\n\u001b[1;32m    313\u001b[0m \u001b[38;5;28;01mwith\u001b[39;00m EnvironmentContext(\n\u001b[1;32m    314\u001b[0m     config,\n\u001b[1;32m    315\u001b[0m     script,\n\u001b[0;32m   (...)\u001b[0m\n\u001b[1;32m    320\u001b[0m     tag\u001b[38;5;241m=\u001b[39mtag,\n\u001b[1;32m    321\u001b[0m ):\n\u001b[0;32m--> 322\u001b[0m     script\u001b[38;5;241m.\u001b[39mrun_env()\n",
      "File \u001b[0;32m~/anaconda3/envs/ds_toolkit/lib/python3.11/site-packages/alembic/script/base.py:569\u001b[0m, in \u001b[0;36mScriptDirectory.run_env\u001b[0;34m(self)\u001b[0m\n\u001b[1;32m    560\u001b[0m \u001b[38;5;28;01mdef\u001b[39;00m \u001b[38;5;21mrun_env\u001b[39m(\u001b[38;5;28mself\u001b[39m) \u001b[38;5;241m-\u001b[39m\u001b[38;5;241m>\u001b[39m \u001b[38;5;28;01mNone\u001b[39;00m:\n\u001b[1;32m    561\u001b[0m     \u001b[38;5;124;03m\"\"\"Run the script environment.\u001b[39;00m\n\u001b[1;32m    562\u001b[0m \n\u001b[1;32m    563\u001b[0m \u001b[38;5;124;03m    This basically runs the ``env.py`` script present\u001b[39;00m\n\u001b[0;32m   (...)\u001b[0m\n\u001b[1;32m    567\u001b[0m \n\u001b[1;32m    568\u001b[0m \u001b[38;5;124;03m    \"\"\"\u001b[39;00m\n\u001b[0;32m--> 569\u001b[0m     util\u001b[38;5;241m.\u001b[39mload_python_file(\u001b[38;5;28mself\u001b[39m\u001b[38;5;241m.\u001b[39mdir, \u001b[38;5;124m\"\u001b[39m\u001b[38;5;124menv.py\u001b[39m\u001b[38;5;124m\"\u001b[39m)\n",
      "File \u001b[0;32m~/anaconda3/envs/ds_toolkit/lib/python3.11/site-packages/alembic/util/pyfiles.py:94\u001b[0m, in \u001b[0;36mload_python_file\u001b[0;34m(dir_, filename)\u001b[0m\n\u001b[1;32m     92\u001b[0m \u001b[38;5;28;01mif\u001b[39;00m ext \u001b[38;5;241m==\u001b[39m \u001b[38;5;124m\"\u001b[39m\u001b[38;5;124m.py\u001b[39m\u001b[38;5;124m\"\u001b[39m:\n\u001b[1;32m     93\u001b[0m     \u001b[38;5;28;01mif\u001b[39;00m os\u001b[38;5;241m.\u001b[39mpath\u001b[38;5;241m.\u001b[39mexists(path):\n\u001b[0;32m---> 94\u001b[0m         module \u001b[38;5;241m=\u001b[39m load_module_py(module_id, path)\n\u001b[1;32m     95\u001b[0m     \u001b[38;5;28;01melse\u001b[39;00m:\n\u001b[1;32m     96\u001b[0m         pyc_path \u001b[38;5;241m=\u001b[39m pyc_file_from_path(path)\n",
      "File \u001b[0;32m~/anaconda3/envs/ds_toolkit/lib/python3.11/site-packages/alembic/util/pyfiles.py:110\u001b[0m, in \u001b[0;36mload_module_py\u001b[0;34m(module_id, path)\u001b[0m\n\u001b[1;32m    108\u001b[0m \u001b[38;5;28;01massert\u001b[39;00m spec\n\u001b[1;32m    109\u001b[0m module \u001b[38;5;241m=\u001b[39m importlib\u001b[38;5;241m.\u001b[39mutil\u001b[38;5;241m.\u001b[39mmodule_from_spec(spec)\n\u001b[0;32m--> 110\u001b[0m spec\u001b[38;5;241m.\u001b[39mloader\u001b[38;5;241m.\u001b[39mexec_module(module)  \u001b[38;5;66;03m# type: ignore\u001b[39;00m\n\u001b[1;32m    111\u001b[0m \u001b[38;5;28;01mreturn\u001b[39;00m module\n",
      "File \u001b[0;32m<frozen importlib._bootstrap_external>:940\u001b[0m, in \u001b[0;36mexec_module\u001b[0;34m(self, module)\u001b[0m\n",
      "File \u001b[0;32m<frozen importlib._bootstrap>:241\u001b[0m, in \u001b[0;36m_call_with_frames_removed\u001b[0;34m(f, *args, **kwds)\u001b[0m\n",
      "File \u001b[0;32m~/anaconda3/envs/ds_toolkit/lib/python3.11/site-packages/mlflow/store/db_migrations/env.py:86\u001b[0m\n\u001b[1;32m     84\u001b[0m     run_migrations_offline()\n\u001b[1;32m     85\u001b[0m \u001b[38;5;28;01melse\u001b[39;00m:\n\u001b[0;32m---> 86\u001b[0m     run_migrations_online()\n",
      "File \u001b[0;32m~/anaconda3/envs/ds_toolkit/lib/python3.11/site-packages/mlflow/store/db_migrations/env.py:80\u001b[0m, in \u001b[0;36mrun_migrations_online\u001b[0;34m()\u001b[0m\n\u001b[1;32m     75\u001b[0m context\u001b[38;5;241m.\u001b[39mconfigure(\n\u001b[1;32m     76\u001b[0m     connection\u001b[38;5;241m=\u001b[39mconnection, target_metadata\u001b[38;5;241m=\u001b[39mtarget_metadata, render_as_batch\u001b[38;5;241m=\u001b[39m\u001b[38;5;28;01mTrue\u001b[39;00m\n\u001b[1;32m     77\u001b[0m )\n\u001b[1;32m     79\u001b[0m \u001b[38;5;28;01mwith\u001b[39;00m context\u001b[38;5;241m.\u001b[39mbegin_transaction():\n\u001b[0;32m---> 80\u001b[0m     context\u001b[38;5;241m.\u001b[39mrun_migrations()\n",
      "File \u001b[0;32m<string>:8\u001b[0m, in \u001b[0;36mrun_migrations\u001b[0;34m(*args, **kw)\u001b[0m\n",
      "File \u001b[0;32m~/anaconda3/envs/ds_toolkit/lib/python3.11/site-packages/alembic/runtime/environment.py:853\u001b[0m, in \u001b[0;36mEnvironmentContext.run_migrations\u001b[0;34m(self, **kw)\u001b[0m\n\u001b[1;32m    851\u001b[0m \u001b[38;5;28;01massert\u001b[39;00m \u001b[38;5;28mself\u001b[39m\u001b[38;5;241m.\u001b[39m_migration_context \u001b[38;5;129;01mis\u001b[39;00m \u001b[38;5;129;01mnot\u001b[39;00m \u001b[38;5;28;01mNone\u001b[39;00m\n\u001b[1;32m    852\u001b[0m \u001b[38;5;28;01mwith\u001b[39;00m Operations\u001b[38;5;241m.\u001b[39mcontext(\u001b[38;5;28mself\u001b[39m\u001b[38;5;241m.\u001b[39m_migration_context):\n\u001b[0;32m--> 853\u001b[0m     \u001b[38;5;28mself\u001b[39m\u001b[38;5;241m.\u001b[39mget_context()\u001b[38;5;241m.\u001b[39mrun_migrations(\u001b[38;5;241m*\u001b[39m\u001b[38;5;241m*\u001b[39mkw)\n",
      "File \u001b[0;32m~/anaconda3/envs/ds_toolkit/lib/python3.11/site-packages/alembic/runtime/migration.py:611\u001b[0m, in \u001b[0;36mMigrationContext.run_migrations\u001b[0;34m(self, **kw)\u001b[0m\n\u001b[1;32m    608\u001b[0m head_maintainer \u001b[38;5;241m=\u001b[39m HeadMaintainer(\u001b[38;5;28mself\u001b[39m, heads)\n\u001b[1;32m    610\u001b[0m \u001b[38;5;28;01massert\u001b[39;00m \u001b[38;5;28mself\u001b[39m\u001b[38;5;241m.\u001b[39m_migrations_fn \u001b[38;5;129;01mis\u001b[39;00m \u001b[38;5;129;01mnot\u001b[39;00m \u001b[38;5;28;01mNone\u001b[39;00m\n\u001b[0;32m--> 611\u001b[0m \u001b[38;5;28;01mfor\u001b[39;00m step \u001b[38;5;129;01min\u001b[39;00m \u001b[38;5;28mself\u001b[39m\u001b[38;5;241m.\u001b[39m_migrations_fn(heads, \u001b[38;5;28mself\u001b[39m):\n\u001b[1;32m    612\u001b[0m     \u001b[38;5;28;01mwith\u001b[39;00m \u001b[38;5;28mself\u001b[39m\u001b[38;5;241m.\u001b[39mbegin_transaction(_per_migration\u001b[38;5;241m=\u001b[39m\u001b[38;5;28;01mTrue\u001b[39;00m):\n\u001b[1;32m    614\u001b[0m         \u001b[38;5;28;01mif\u001b[39;00m \u001b[38;5;28mself\u001b[39m\u001b[38;5;241m.\u001b[39mas_sql \u001b[38;5;129;01mand\u001b[39;00m \u001b[38;5;129;01mnot\u001b[39;00m head_maintainer\u001b[38;5;241m.\u001b[39mheads:\n\u001b[1;32m    615\u001b[0m             \u001b[38;5;66;03m# for offline mode, include a CREATE TABLE from\u001b[39;00m\n\u001b[1;32m    616\u001b[0m             \u001b[38;5;66;03m# the base\u001b[39;00m\n",
      "File \u001b[0;32m~/anaconda3/envs/ds_toolkit/lib/python3.11/site-packages/alembic/command.py:311\u001b[0m, in \u001b[0;36mupgrade.<locals>.upgrade\u001b[0;34m(rev, context)\u001b[0m\n\u001b[1;32m    310\u001b[0m \u001b[38;5;28;01mdef\u001b[39;00m \u001b[38;5;21mupgrade\u001b[39m(rev, context):\n\u001b[0;32m--> 311\u001b[0m     \u001b[38;5;28;01mreturn\u001b[39;00m script\u001b[38;5;241m.\u001b[39m_upgrade_revs(revision, rev)\n",
      "File \u001b[0;32m~/anaconda3/envs/ds_toolkit/lib/python3.11/site-packages/alembic/script/base.py:431\u001b[0m, in \u001b[0;36mScriptDirectory._upgrade_revs\u001b[0;34m(self, destination, current_rev)\u001b[0m\n\u001b[1;32m    428\u001b[0m \u001b[38;5;28;01mdef\u001b[39;00m \u001b[38;5;21m_upgrade_revs\u001b[39m(\n\u001b[1;32m    429\u001b[0m     \u001b[38;5;28mself\u001b[39m, destination: \u001b[38;5;28mstr\u001b[39m, current_rev: \u001b[38;5;28mstr\u001b[39m\n\u001b[1;32m    430\u001b[0m ) \u001b[38;5;241m-\u001b[39m\u001b[38;5;241m>\u001b[39m List[RevisionStep]:\n\u001b[0;32m--> 431\u001b[0m     \u001b[38;5;28;01mwith\u001b[39;00m \u001b[38;5;28mself\u001b[39m\u001b[38;5;241m.\u001b[39m_catch_revision_errors(\n\u001b[1;32m    432\u001b[0m         ancestor\u001b[38;5;241m=\u001b[39m\u001b[38;5;124m\"\u001b[39m\u001b[38;5;124mDestination \u001b[39m\u001b[38;5;132;01m%(end)s\u001b[39;00m\u001b[38;5;124m is not a valid upgrade \u001b[39m\u001b[38;5;124m\"\u001b[39m\n\u001b[1;32m    433\u001b[0m         \u001b[38;5;124m\"\u001b[39m\u001b[38;5;124mtarget from current head(s)\u001b[39m\u001b[38;5;124m\"\u001b[39m,\n\u001b[1;32m    434\u001b[0m         end\u001b[38;5;241m=\u001b[39mdestination,\n\u001b[1;32m    435\u001b[0m     ):\n\u001b[1;32m    436\u001b[0m         revs \u001b[38;5;241m=\u001b[39m \u001b[38;5;28mself\u001b[39m\u001b[38;5;241m.\u001b[39miterate_revisions(\n\u001b[1;32m    437\u001b[0m             destination, current_rev, implicit_base\u001b[38;5;241m=\u001b[39m\u001b[38;5;28;01mTrue\u001b[39;00m\n\u001b[1;32m    438\u001b[0m         )\n\u001b[1;32m    439\u001b[0m         \u001b[38;5;28;01mreturn\u001b[39;00m [\n\u001b[1;32m    440\u001b[0m             migration\u001b[38;5;241m.\u001b[39mMigrationStep\u001b[38;5;241m.\u001b[39mupgrade_from_script(\n\u001b[1;32m    441\u001b[0m                 \u001b[38;5;28mself\u001b[39m\u001b[38;5;241m.\u001b[39mrevision_map, script\n\u001b[1;32m    442\u001b[0m             )\n\u001b[1;32m    443\u001b[0m             \u001b[38;5;28;01mfor\u001b[39;00m script \u001b[38;5;129;01min\u001b[39;00m \u001b[38;5;28mreversed\u001b[39m(\u001b[38;5;28mlist\u001b[39m(revs))\n\u001b[1;32m    444\u001b[0m         ]\n",
      "File \u001b[0;32m~/anaconda3/envs/ds_toolkit/lib/python3.11/contextlib.py:155\u001b[0m, in \u001b[0;36m_GeneratorContextManager.__exit__\u001b[0;34m(self, typ, value, traceback)\u001b[0m\n\u001b[1;32m    153\u001b[0m     value \u001b[38;5;241m=\u001b[39m typ()\n\u001b[1;32m    154\u001b[0m \u001b[38;5;28;01mtry\u001b[39;00m:\n\u001b[0;32m--> 155\u001b[0m     \u001b[38;5;28mself\u001b[39m\u001b[38;5;241m.\u001b[39mgen\u001b[38;5;241m.\u001b[39mthrow(typ, value, traceback)\n\u001b[1;32m    156\u001b[0m \u001b[38;5;28;01mexcept\u001b[39;00m \u001b[38;5;167;01mStopIteration\u001b[39;00m \u001b[38;5;28;01mas\u001b[39;00m exc:\n\u001b[1;32m    157\u001b[0m     \u001b[38;5;66;03m# Suppress StopIteration *unless* it's the same exception that\u001b[39;00m\n\u001b[1;32m    158\u001b[0m     \u001b[38;5;66;03m# was passed to throw().  This prevents a StopIteration\u001b[39;00m\n\u001b[1;32m    159\u001b[0m     \u001b[38;5;66;03m# raised inside the \"with\" statement from being suppressed.\u001b[39;00m\n\u001b[1;32m    160\u001b[0m     \u001b[38;5;28;01mreturn\u001b[39;00m exc \u001b[38;5;129;01mis\u001b[39;00m \u001b[38;5;129;01mnot\u001b[39;00m value\n",
      "File \u001b[0;32m~/anaconda3/envs/ds_toolkit/lib/python3.11/site-packages/alembic/script/base.py:265\u001b[0m, in \u001b[0;36mScriptDirectory._catch_revision_errors\u001b[0;34m(self, ancestor, multiple_heads, start, end, resolution)\u001b[0m\n\u001b[1;32m    261\u001b[0m     \u001b[38;5;28;01mif\u001b[39;00m resolution \u001b[38;5;129;01mis\u001b[39;00m \u001b[38;5;28;01mNone\u001b[39;00m:\n\u001b[1;32m    262\u001b[0m         resolution \u001b[38;5;241m=\u001b[39m \u001b[38;5;124m\"\u001b[39m\u001b[38;5;124mCan\u001b[39m\u001b[38;5;124m'\u001b[39m\u001b[38;5;124mt locate revision identified by \u001b[39m\u001b[38;5;124m'\u001b[39m\u001b[38;5;132;01m%s\u001b[39;00m\u001b[38;5;124m'\u001b[39m\u001b[38;5;124m\"\u001b[39m \u001b[38;5;241m%\u001b[39m (\n\u001b[1;32m    263\u001b[0m             re\u001b[38;5;241m.\u001b[39margument\n\u001b[1;32m    264\u001b[0m         )\n\u001b[0;32m--> 265\u001b[0m     \u001b[38;5;28;01mraise\u001b[39;00m util\u001b[38;5;241m.\u001b[39mCommandError(resolution) \u001b[38;5;28;01mfrom\u001b[39;00m \u001b[38;5;21;01mre\u001b[39;00m\n\u001b[1;32m    266\u001b[0m \u001b[38;5;28;01mexcept\u001b[39;00m revision\u001b[38;5;241m.\u001b[39mRevisionError \u001b[38;5;28;01mas\u001b[39;00m err:\n\u001b[1;32m    267\u001b[0m     \u001b[38;5;28;01mraise\u001b[39;00m util\u001b[38;5;241m.\u001b[39mCommandError(err\u001b[38;5;241m.\u001b[39margs[\u001b[38;5;241m0\u001b[39m]) \u001b[38;5;28;01mfrom\u001b[39;00m \u001b[38;5;21;01merr\u001b[39;00m\n",
      "\u001b[0;31mCommandError\u001b[0m: Can't locate revision identified by '867495a8f9d4'"
     ]
    }
   ],
   "source": [
    "\n",
    "mlflow.set_tracking_uri(\"sqlite:///mlflow.db\")\n",
    "mlflow.set_experiment(\"nyc_taxi_experiment\")\n",
    "\n",
    "\n",
    "X_train, y_train = load_pickle(os.path.join(data_path, \"train.pkl\"))\n",
    "X_val, y_val = load_pickle(os.path.join(data_path, \"val.pkl\"))\n",
    "\n",
    "with mlflow.start_run():\n",
    "\n",
    "    mlflow.set_tag(\"developer\", \"agustin\")\n",
    "    print(f'{mlflow.get_tracking_uri()}')\n",
    "\n",
    "    mlflow.log_param(\"train-data\", \"./output/train.pkl\")\n",
    "    mlflow.log_param(\"valid-data\", \"./output/val.pkl\")\n",
    "\n",
    "    max_depth = 15\n",
    "    mlflow.log_param(\"max_depth\", max_depth)\n",
    "    rf = RandomForestRegressor(max_depth=max_depth, random_state=0)\n",
    "    rf.fit(X_train, y_train)\n",
    "    y_pred = rf.predict(X_val)\n",
    "\n",
    "    rmse = mean_squared_error(y_val, y_pred)\n",
    "    mlflow.log_param(\"rmse\", rmse)\n",
    "\n"
   ]
  },
  {
   "cell_type": "code",
   "execution_count": 5,
   "metadata": {},
   "outputs": [
    {
     "name": "stdout",
     "output_type": "stream",
     "text": [
      "Artifact uri:mlflow-artifacts:/0/d10e210f913f4134a821ee58ab8a15b2/artifacts\n",
      "Tracking uri:file:///home/agustin/MLOPS_ZOOMCAMP/Homework/02-experiment-tracking/mlruns\n"
     ]
    }
   ],
   "source": [
    "# Scenario 1: local stores with no tracking server\n",
    "import mlflow\n",
    "\n",
    "print(f'Artifact uri:{mlflow.get_artifact_uri()}')\n",
    "print(f'Tracking uri:{mlflow.get_tracking_uri()}')"
   ]
  },
  {
   "cell_type": "code",
   "execution_count": 1,
   "metadata": {},
   "outputs": [],
   "source": [
    "# Scenario 2: local tracking server, sqlite backend database, artifacts local filesystem\n",
    "import mlflow\n",
    "\n",
    "mlflow.set_tracking_uri(\"http://127.0.0.1:5000\")\n",
    "\n"
   ]
  },
  {
   "cell_type": "code",
   "execution_count": 4,
   "metadata": {},
   "outputs": [
    {
     "ename": "AttributeError",
     "evalue": "module 'mlflow' has no attribute 'list_experiments'",
     "output_type": "error",
     "traceback": [
      "\u001b[0;31m---------------------------------------------------------------------------\u001b[0m",
      "\u001b[0;31mAttributeError\u001b[0m                            Traceback (most recent call last)",
      "Cell \u001b[0;32mIn [4], line 1\u001b[0m\n\u001b[0;32m----> 1\u001b[0m mlflow\u001b[38;5;241m.\u001b[39mlist_experiments()\n",
      "\u001b[0;31mAttributeError\u001b[0m: module 'mlflow' has no attribute 'list_experiments'"
     ]
    }
   ],
   "source": [
    "mlflow.list_experiments()"
   ]
  },
  {
   "cell_type": "code",
   "execution_count": null,
   "metadata": {},
   "outputs": [],
   "source": [
    "\n",
    "mlflow.set_tracking_uri(\"http://127.0.0.01:5000\")\n",
    "mlflow.set_experiment(\"nyc-taxi-experiment\")"
   ]
  },
  {
   "cell_type": "code",
   "execution_count": 24,
   "metadata": {},
   "outputs": [
    {
     "name": "stdout",
     "output_type": "stream",
     "text": [
      "tracking URI: 'sqlite:///mlflow.db'\n"
     ]
    },
    {
     "ename": "AttributeError",
     "evalue": "module 'mlflow' has no attribute 'list_experiments'",
     "output_type": "error",
     "traceback": [
      "\u001b[0;31m---------------------------------------------------------------------------\u001b[0m",
      "\u001b[0;31mAttributeError\u001b[0m                            Traceback (most recent call last)",
      "Cell \u001b[0;32mIn [24], line 2\u001b[0m\n\u001b[1;32m      1\u001b[0m \u001b[38;5;28mprint\u001b[39m(\u001b[38;5;124mf\u001b[39m\u001b[38;5;124m\"\u001b[39m\u001b[38;5;124mtracking URI: \u001b[39m\u001b[38;5;124m'\u001b[39m\u001b[38;5;132;01m{\u001b[39;00mmlflow\u001b[38;5;241m.\u001b[39mget_tracking_uri()\u001b[38;5;132;01m}\u001b[39;00m\u001b[38;5;124m'\u001b[39m\u001b[38;5;124m\"\u001b[39m)\n\u001b[0;32m----> 2\u001b[0m mlflow\u001b[38;5;241m.\u001b[39mlist_experiments()\n",
      "\u001b[0;31mAttributeError\u001b[0m: module 'mlflow' has no attribute 'list_experiments'"
     ]
    }
   ],
   "source": [
    "print(f\"tracking URI: '{mlflow.get_tracking_uri()}'\")\n",
    "mlflow.list_experiments()"
   ]
  },
  {
   "cell_type": "code",
   "execution_count": 22,
   "metadata": {},
   "outputs": [
    {
     "name": "stderr",
     "output_type": "stream",
     "text": [
      "2024/05/21 17:15:31 INFO mlflow.store.db.utils: Creating initial MLflow database tables...\n",
      "2024/05/21 17:15:31 INFO mlflow.store.db.utils: Updating database tables\n",
      "INFO  [alembic.runtime.migration] Context impl SQLiteImpl.\n",
      "INFO  [alembic.runtime.migration] Will assume non-transactional DDL.\n"
     ]
    },
    {
     "ename": "CommandError",
     "evalue": "Can't locate revision identified by '867495a8f9d4'",
     "output_type": "error",
     "traceback": [
      "\u001b[0;31m---------------------------------------------------------------------------\u001b[0m",
      "\u001b[0;31mResolutionError\u001b[0m                           Traceback (most recent call last)",
      "File \u001b[0;32m~/anaconda3/envs/ds_toolkit/lib/python3.11/site-packages/alembic/script/base.py:233\u001b[0m, in \u001b[0;36mScriptDirectory._catch_revision_errors\u001b[0;34m(self, ancestor, multiple_heads, start, end, resolution)\u001b[0m\n\u001b[1;32m    232\u001b[0m \u001b[38;5;28;01mtry\u001b[39;00m:\n\u001b[0;32m--> 233\u001b[0m     \u001b[38;5;28;01myield\u001b[39;00m\n\u001b[1;32m    234\u001b[0m \u001b[38;5;28;01mexcept\u001b[39;00m revision\u001b[38;5;241m.\u001b[39mRangeNotAncestorError \u001b[38;5;28;01mas\u001b[39;00m rna:\n",
      "File \u001b[0;32m~/anaconda3/envs/ds_toolkit/lib/python3.11/site-packages/alembic/script/base.py:443\u001b[0m, in \u001b[0;36mScriptDirectory._upgrade_revs\u001b[0;34m(self, destination, current_rev)\u001b[0m\n\u001b[1;32m    436\u001b[0m revs \u001b[38;5;241m=\u001b[39m \u001b[38;5;28mself\u001b[39m\u001b[38;5;241m.\u001b[39miterate_revisions(\n\u001b[1;32m    437\u001b[0m     destination, current_rev, implicit_base\u001b[38;5;241m=\u001b[39m\u001b[38;5;28;01mTrue\u001b[39;00m\n\u001b[1;32m    438\u001b[0m )\n\u001b[1;32m    439\u001b[0m \u001b[38;5;28;01mreturn\u001b[39;00m [\n\u001b[1;32m    440\u001b[0m     migration\u001b[38;5;241m.\u001b[39mMigrationStep\u001b[38;5;241m.\u001b[39mupgrade_from_script(\n\u001b[1;32m    441\u001b[0m         \u001b[38;5;28mself\u001b[39m\u001b[38;5;241m.\u001b[39mrevision_map, script\n\u001b[1;32m    442\u001b[0m     )\n\u001b[0;32m--> 443\u001b[0m     \u001b[38;5;28;01mfor\u001b[39;00m script \u001b[38;5;129;01min\u001b[39;00m \u001b[38;5;28mreversed\u001b[39m(\u001b[38;5;28mlist\u001b[39m(revs))\n\u001b[1;32m    444\u001b[0m ]\n",
      "File \u001b[0;32m~/anaconda3/envs/ds_toolkit/lib/python3.11/site-packages/alembic/script/revision.py:799\u001b[0m, in \u001b[0;36mRevisionMap.iterate_revisions\u001b[0;34m(self, upper, lower, implicit_base, inclusive, assert_relative_length, select_for_downgrade)\u001b[0m\n\u001b[1;32m    797\u001b[0m     fn \u001b[38;5;241m=\u001b[39m \u001b[38;5;28mself\u001b[39m\u001b[38;5;241m.\u001b[39m_collect_upgrade_revisions\n\u001b[0;32m--> 799\u001b[0m revisions, heads \u001b[38;5;241m=\u001b[39m fn(\n\u001b[1;32m    800\u001b[0m     upper,\n\u001b[1;32m    801\u001b[0m     lower,\n\u001b[1;32m    802\u001b[0m     inclusive\u001b[38;5;241m=\u001b[39minclusive,\n\u001b[1;32m    803\u001b[0m     implicit_base\u001b[38;5;241m=\u001b[39mimplicit_base,\n\u001b[1;32m    804\u001b[0m     assert_relative_length\u001b[38;5;241m=\u001b[39massert_relative_length,\n\u001b[1;32m    805\u001b[0m )\n\u001b[1;32m    807\u001b[0m \u001b[38;5;28;01mfor\u001b[39;00m node \u001b[38;5;129;01min\u001b[39;00m \u001b[38;5;28mself\u001b[39m\u001b[38;5;241m.\u001b[39m_topological_sort(revisions, heads):\n",
      "File \u001b[0;32m~/anaconda3/envs/ds_toolkit/lib/python3.11/site-packages/alembic/script/revision.py:1454\u001b[0m, in \u001b[0;36mRevisionMap._collect_upgrade_revisions\u001b[0;34m(self, upper, lower, inclusive, implicit_base, assert_relative_length)\u001b[0m\n\u001b[1;32m   1448\u001b[0m required_node_set \u001b[38;5;241m=\u001b[39m \u001b[38;5;28mset\u001b[39m(\n\u001b[1;32m   1449\u001b[0m     \u001b[38;5;28mself\u001b[39m\u001b[38;5;241m.\u001b[39m_get_ancestor_nodes(\n\u001b[1;32m   1450\u001b[0m         targets, check\u001b[38;5;241m=\u001b[39m\u001b[38;5;28;01mTrue\u001b[39;00m, include_dependencies\u001b[38;5;241m=\u001b[39m\u001b[38;5;28;01mTrue\u001b[39;00m\n\u001b[1;32m   1451\u001b[0m     )\n\u001b[1;32m   1452\u001b[0m )\u001b[38;5;241m.\u001b[39munion(targets)\n\u001b[0;32m-> 1454\u001b[0m current_revisions \u001b[38;5;241m=\u001b[39m \u001b[38;5;28mself\u001b[39m\u001b[38;5;241m.\u001b[39mget_revisions(lower)\n\u001b[1;32m   1455\u001b[0m \u001b[38;5;28;01mif\u001b[39;00m \u001b[38;5;129;01mnot\u001b[39;00m implicit_base \u001b[38;5;129;01mand\u001b[39;00m \u001b[38;5;28many\u001b[39m(\n\u001b[1;32m   1456\u001b[0m     rev \u001b[38;5;129;01mnot\u001b[39;00m \u001b[38;5;129;01min\u001b[39;00m required_node_set\n\u001b[1;32m   1457\u001b[0m     \u001b[38;5;28;01mfor\u001b[39;00m rev \u001b[38;5;129;01min\u001b[39;00m current_revisions\n\u001b[1;32m   1458\u001b[0m     \u001b[38;5;28;01mif\u001b[39;00m rev \u001b[38;5;129;01mis\u001b[39;00m \u001b[38;5;129;01mnot\u001b[39;00m \u001b[38;5;28;01mNone\u001b[39;00m\n\u001b[1;32m   1459\u001b[0m ):\n",
      "File \u001b[0;32m~/anaconda3/envs/ds_toolkit/lib/python3.11/site-packages/alembic/script/revision.py:527\u001b[0m, in \u001b[0;36mRevisionMap.get_revisions\u001b[0;34m(self, id_)\u001b[0m\n\u001b[1;32m    526\u001b[0m \u001b[38;5;28;01mif\u001b[39;00m \u001b[38;5;28misinstance\u001b[39m(id_, (\u001b[38;5;28mlist\u001b[39m, \u001b[38;5;28mtuple\u001b[39m, \u001b[38;5;28mset\u001b[39m, \u001b[38;5;28mfrozenset\u001b[39m)):\n\u001b[0;32m--> 527\u001b[0m     \u001b[38;5;28;01mreturn\u001b[39;00m \u001b[38;5;28msum\u001b[39m([\u001b[38;5;28mself\u001b[39m\u001b[38;5;241m.\u001b[39mget_revisions(id_elem) \u001b[38;5;28;01mfor\u001b[39;00m id_elem \u001b[38;5;129;01min\u001b[39;00m id_], ())\n\u001b[1;32m    528\u001b[0m \u001b[38;5;28;01melse\u001b[39;00m:\n",
      "File \u001b[0;32m~/anaconda3/envs/ds_toolkit/lib/python3.11/site-packages/alembic/script/revision.py:527\u001b[0m, in \u001b[0;36m<listcomp>\u001b[0;34m(.0)\u001b[0m\n\u001b[1;32m    526\u001b[0m \u001b[38;5;28;01mif\u001b[39;00m \u001b[38;5;28misinstance\u001b[39m(id_, (\u001b[38;5;28mlist\u001b[39m, \u001b[38;5;28mtuple\u001b[39m, \u001b[38;5;28mset\u001b[39m, \u001b[38;5;28mfrozenset\u001b[39m)):\n\u001b[0;32m--> 527\u001b[0m     \u001b[38;5;28;01mreturn\u001b[39;00m \u001b[38;5;28msum\u001b[39m([\u001b[38;5;28mself\u001b[39m\u001b[38;5;241m.\u001b[39mget_revisions(id_elem) \u001b[38;5;28;01mfor\u001b[39;00m id_elem \u001b[38;5;129;01min\u001b[39;00m id_], ())\n\u001b[1;32m    528\u001b[0m \u001b[38;5;28;01melse\u001b[39;00m:\n",
      "File \u001b[0;32m~/anaconda3/envs/ds_toolkit/lib/python3.11/site-packages/alembic/script/revision.py:552\u001b[0m, in \u001b[0;36mRevisionMap.get_revisions\u001b[0;34m(self, id_)\u001b[0m\n\u001b[1;32m    551\u001b[0m         \u001b[38;5;28;01mpass\u001b[39;00m\n\u001b[0;32m--> 552\u001b[0m \u001b[38;5;28;01mreturn\u001b[39;00m \u001b[38;5;28mtuple\u001b[39m(\n\u001b[1;32m    553\u001b[0m     \u001b[38;5;28mself\u001b[39m\u001b[38;5;241m.\u001b[39m_revision_for_ident(rev_id, branch_label)\n\u001b[1;32m    554\u001b[0m     \u001b[38;5;28;01mfor\u001b[39;00m rev_id \u001b[38;5;129;01min\u001b[39;00m resolved_id\n\u001b[1;32m    555\u001b[0m )\n",
      "File \u001b[0;32m~/anaconda3/envs/ds_toolkit/lib/python3.11/site-packages/alembic/script/revision.py:553\u001b[0m, in \u001b[0;36m<genexpr>\u001b[0;34m(.0)\u001b[0m\n\u001b[1;32m    551\u001b[0m         \u001b[38;5;28;01mpass\u001b[39;00m\n\u001b[1;32m    552\u001b[0m \u001b[38;5;28;01mreturn\u001b[39;00m \u001b[38;5;28mtuple\u001b[39m(\n\u001b[0;32m--> 553\u001b[0m     \u001b[38;5;28mself\u001b[39m\u001b[38;5;241m.\u001b[39m_revision_for_ident(rev_id, branch_label)\n\u001b[1;32m    554\u001b[0m     \u001b[38;5;28;01mfor\u001b[39;00m rev_id \u001b[38;5;129;01min\u001b[39;00m resolved_id\n\u001b[1;32m    555\u001b[0m )\n",
      "File \u001b[0;32m~/anaconda3/envs/ds_toolkit/lib/python3.11/site-packages/alembic/script/revision.py:624\u001b[0m, in \u001b[0;36mRevisionMap._revision_for_ident\u001b[0;34m(self, resolved_id, check_branch)\u001b[0m\n\u001b[1;32m    623\u001b[0m \u001b[38;5;28;01mif\u001b[39;00m \u001b[38;5;129;01mnot\u001b[39;00m revs:\n\u001b[0;32m--> 624\u001b[0m     \u001b[38;5;28;01mraise\u001b[39;00m ResolutionError(\n\u001b[1;32m    625\u001b[0m         \u001b[38;5;124m\"\u001b[39m\u001b[38;5;124mNo such revision or branch \u001b[39m\u001b[38;5;124m'\u001b[39m\u001b[38;5;132;01m%s\u001b[39;00m\u001b[38;5;124m'\u001b[39m\u001b[38;5;132;01m%s\u001b[39;00m\u001b[38;5;124m\"\u001b[39m\n\u001b[1;32m    626\u001b[0m         \u001b[38;5;241m%\u001b[39m (\n\u001b[1;32m    627\u001b[0m             resolved_id,\n\u001b[1;32m    628\u001b[0m             (\n\u001b[1;32m    629\u001b[0m                 \u001b[38;5;124m\"\u001b[39m\u001b[38;5;124m; please ensure at least four characters are \u001b[39m\u001b[38;5;124m\"\u001b[39m\n\u001b[1;32m    630\u001b[0m                 \u001b[38;5;124m\"\u001b[39m\u001b[38;5;124mpresent for partial revision identifier matches\u001b[39m\u001b[38;5;124m\"\u001b[39m\n\u001b[1;32m    631\u001b[0m                 \u001b[38;5;28;01mif\u001b[39;00m \u001b[38;5;28mlen\u001b[39m(resolved_id) \u001b[38;5;241m<\u001b[39m \u001b[38;5;241m4\u001b[39m\n\u001b[1;32m    632\u001b[0m                 \u001b[38;5;28;01melse\u001b[39;00m \u001b[38;5;124m\"\u001b[39m\u001b[38;5;124m\"\u001b[39m\n\u001b[1;32m    633\u001b[0m             ),\n\u001b[1;32m    634\u001b[0m         ),\n\u001b[1;32m    635\u001b[0m         resolved_id,\n\u001b[1;32m    636\u001b[0m     )\n\u001b[1;32m    637\u001b[0m \u001b[38;5;28;01melif\u001b[39;00m \u001b[38;5;28mlen\u001b[39m(revs) \u001b[38;5;241m>\u001b[39m \u001b[38;5;241m1\u001b[39m:\n",
      "\u001b[0;31mResolutionError\u001b[0m: No such revision or branch '867495a8f9d4'",
      "\nThe above exception was the direct cause of the following exception:\n",
      "\u001b[0;31mCommandError\u001b[0m                              Traceback (most recent call last)",
      "Cell \u001b[0;32mIn [22], line 1\u001b[0m\n\u001b[0;32m----> 1\u001b[0m mlflow\u001b[38;5;241m.\u001b[39mset_experiment(\u001b[38;5;124m\"\u001b[39m\u001b[38;5;124mnyc-taxi-experiment\u001b[39m\u001b[38;5;124m\"\u001b[39m)\n",
      "File \u001b[0;32m~/anaconda3/envs/ds_toolkit/lib/python3.11/site-packages/mlflow/tracking/fluent.py:141\u001b[0m, in \u001b[0;36mset_experiment\u001b[0;34m(experiment_name, experiment_id)\u001b[0m\n\u001b[1;32m    133\u001b[0m \u001b[38;5;28;01mif\u001b[39;00m (experiment_name \u001b[38;5;129;01mis\u001b[39;00m \u001b[38;5;129;01mnot\u001b[39;00m \u001b[38;5;28;01mNone\u001b[39;00m \u001b[38;5;129;01mand\u001b[39;00m experiment_id \u001b[38;5;129;01mis\u001b[39;00m \u001b[38;5;129;01mnot\u001b[39;00m \u001b[38;5;28;01mNone\u001b[39;00m) \u001b[38;5;129;01mor\u001b[39;00m (\n\u001b[1;32m    134\u001b[0m     experiment_name \u001b[38;5;129;01mis\u001b[39;00m \u001b[38;5;28;01mNone\u001b[39;00m \u001b[38;5;129;01mand\u001b[39;00m experiment_id \u001b[38;5;129;01mis\u001b[39;00m \u001b[38;5;28;01mNone\u001b[39;00m\n\u001b[1;32m    135\u001b[0m ):\n\u001b[1;32m    136\u001b[0m     \u001b[38;5;28;01mraise\u001b[39;00m MlflowException(\n\u001b[1;32m    137\u001b[0m         message\u001b[38;5;241m=\u001b[39m\u001b[38;5;124m\"\u001b[39m\u001b[38;5;124mMust specify exactly one of: `experiment_id` or `experiment_name`.\u001b[39m\u001b[38;5;124m\"\u001b[39m,\n\u001b[1;32m    138\u001b[0m         error_code\u001b[38;5;241m=\u001b[39mINVALID_PARAMETER_VALUE,\n\u001b[1;32m    139\u001b[0m     )\n\u001b[0;32m--> 141\u001b[0m client \u001b[38;5;241m=\u001b[39m MlflowClient()\n\u001b[1;32m    142\u001b[0m \u001b[38;5;28;01mif\u001b[39;00m experiment_id \u001b[38;5;129;01mis\u001b[39;00m \u001b[38;5;28;01mNone\u001b[39;00m:\n\u001b[1;32m    143\u001b[0m     experiment \u001b[38;5;241m=\u001b[39m client\u001b[38;5;241m.\u001b[39mget_experiment_by_name(experiment_name)\n",
      "File \u001b[0;32m~/anaconda3/envs/ds_toolkit/lib/python3.11/site-packages/mlflow/tracking/client.py:100\u001b[0m, in \u001b[0;36mMlflowClient.__init__\u001b[0;34m(self, tracking_uri, registry_uri)\u001b[0m\n\u001b[1;32m     98\u001b[0m final_tracking_uri \u001b[38;5;241m=\u001b[39m utils\u001b[38;5;241m.\u001b[39m_resolve_tracking_uri(tracking_uri)\n\u001b[1;32m     99\u001b[0m \u001b[38;5;28mself\u001b[39m\u001b[38;5;241m.\u001b[39m_registry_uri \u001b[38;5;241m=\u001b[39m registry_utils\u001b[38;5;241m.\u001b[39m_resolve_registry_uri(registry_uri, tracking_uri)\n\u001b[0;32m--> 100\u001b[0m \u001b[38;5;28mself\u001b[39m\u001b[38;5;241m.\u001b[39m_tracking_client \u001b[38;5;241m=\u001b[39m TrackingServiceClient(final_tracking_uri)\n",
      "File \u001b[0;32m~/anaconda3/envs/ds_toolkit/lib/python3.11/site-packages/mlflow/tracking/_tracking_service/client.py:50\u001b[0m, in \u001b[0;36mTrackingServiceClient.__init__\u001b[0;34m(self, tracking_uri)\u001b[0m\n\u001b[1;32m     45\u001b[0m \u001b[38;5;28mself\u001b[39m\u001b[38;5;241m.\u001b[39mtracking_uri \u001b[38;5;241m=\u001b[39m tracking_uri\n\u001b[1;32m     46\u001b[0m \u001b[38;5;66;03m# NB: Fetch the tracking store (`self.store`) upon client initialization to ensure that\u001b[39;00m\n\u001b[1;32m     47\u001b[0m \u001b[38;5;66;03m# the tracking URI is valid and the store can be properly resolved. We define `store` as a\u001b[39;00m\n\u001b[1;32m     48\u001b[0m \u001b[38;5;66;03m# property method to ensure that the client is serializable, even if the store is not\u001b[39;00m\n\u001b[1;32m     49\u001b[0m \u001b[38;5;66;03m# self.store\u001b[39;00m\n\u001b[0;32m---> 50\u001b[0m \u001b[38;5;28mself\u001b[39m\u001b[38;5;241m.\u001b[39mstore\n",
      "File \u001b[0;32m~/anaconda3/envs/ds_toolkit/lib/python3.11/site-packages/mlflow/tracking/_tracking_service/client.py:54\u001b[0m, in \u001b[0;36mTrackingServiceClient.store\u001b[0;34m(self)\u001b[0m\n\u001b[1;32m     52\u001b[0m \u001b[38;5;129m@property\u001b[39m\n\u001b[1;32m     53\u001b[0m \u001b[38;5;28;01mdef\u001b[39;00m \u001b[38;5;21mstore\u001b[39m(\u001b[38;5;28mself\u001b[39m):\n\u001b[0;32m---> 54\u001b[0m     \u001b[38;5;28;01mreturn\u001b[39;00m utils\u001b[38;5;241m.\u001b[39m_get_store(\u001b[38;5;28mself\u001b[39m\u001b[38;5;241m.\u001b[39mtracking_uri)\n",
      "File \u001b[0;32m~/anaconda3/envs/ds_toolkit/lib/python3.11/site-packages/mlflow/tracking/_tracking_service/utils.py:197\u001b[0m, in \u001b[0;36m_get_store\u001b[0;34m(store_uri, artifact_uri)\u001b[0m\n\u001b[1;32m    196\u001b[0m \u001b[38;5;28;01mdef\u001b[39;00m \u001b[38;5;21m_get_store\u001b[39m(store_uri\u001b[38;5;241m=\u001b[39m\u001b[38;5;28;01mNone\u001b[39;00m, artifact_uri\u001b[38;5;241m=\u001b[39m\u001b[38;5;28;01mNone\u001b[39;00m):\n\u001b[0;32m--> 197\u001b[0m     \u001b[38;5;28;01mreturn\u001b[39;00m _tracking_store_registry\u001b[38;5;241m.\u001b[39mget_store(store_uri, artifact_uri)\n",
      "File \u001b[0;32m~/anaconda3/envs/ds_toolkit/lib/python3.11/site-packages/mlflow/tracking/_tracking_service/registry.py:42\u001b[0m, in \u001b[0;36mTrackingStoreRegistry.get_store\u001b[0;34m(self, store_uri, artifact_uri)\u001b[0m\n\u001b[1;32m     39\u001b[0m \u001b[38;5;28;01mfrom\u001b[39;00m \u001b[38;5;21;01mmlflow\u001b[39;00m\u001b[38;5;21;01m.\u001b[39;00m\u001b[38;5;21;01mtracking\u001b[39;00m\u001b[38;5;21;01m.\u001b[39;00m\u001b[38;5;21;01m_tracking_service\u001b[39;00m \u001b[38;5;28;01mimport\u001b[39;00m utils\n\u001b[1;32m     41\u001b[0m resolved_store_uri \u001b[38;5;241m=\u001b[39m utils\u001b[38;5;241m.\u001b[39m_resolve_tracking_uri(store_uri)\n\u001b[0;32m---> 42\u001b[0m \u001b[38;5;28;01mreturn\u001b[39;00m \u001b[38;5;28mself\u001b[39m\u001b[38;5;241m.\u001b[39m_get_store_with_resolved_uri(resolved_store_uri, artifact_uri)\n",
      "File \u001b[0;32m~/anaconda3/envs/ds_toolkit/lib/python3.11/site-packages/mlflow/tracking/_tracking_service/registry.py:52\u001b[0m, in \u001b[0;36mTrackingStoreRegistry._get_store_with_resolved_uri\u001b[0;34m(self, resolved_store_uri, artifact_uri)\u001b[0m\n\u001b[1;32m     46\u001b[0m \u001b[38;5;124;03m\"\"\"\u001b[39;00m\n\u001b[1;32m     47\u001b[0m \u001b[38;5;124;03mRetrieve the store associated with a resolved (non-None) store URI and an artifact URI.\u001b[39;00m\n\u001b[1;32m     48\u001b[0m \u001b[38;5;124;03mCaching is done on resolved URIs because the meaning of an unresolved (None) URI may change\u001b[39;00m\n\u001b[1;32m     49\u001b[0m \u001b[38;5;124;03mdepending on external configuration, such as environment variables\u001b[39;00m\n\u001b[1;32m     50\u001b[0m \u001b[38;5;124;03m\"\"\"\u001b[39;00m\n\u001b[1;32m     51\u001b[0m builder \u001b[38;5;241m=\u001b[39m \u001b[38;5;28mself\u001b[39m\u001b[38;5;241m.\u001b[39mget_store_builder(resolved_store_uri)\n\u001b[0;32m---> 52\u001b[0m \u001b[38;5;28;01mreturn\u001b[39;00m builder(store_uri\u001b[38;5;241m=\u001b[39mresolved_store_uri, artifact_uri\u001b[38;5;241m=\u001b[39martifact_uri)\n",
      "File \u001b[0;32m~/anaconda3/envs/ds_toolkit/lib/python3.11/site-packages/mlflow/tracking/_tracking_service/utils.py:130\u001b[0m, in \u001b[0;36m_get_sqlalchemy_store\u001b[0;34m(store_uri, artifact_uri)\u001b[0m\n\u001b[1;32m    128\u001b[0m \u001b[38;5;28;01mif\u001b[39;00m artifact_uri \u001b[38;5;129;01mis\u001b[39;00m \u001b[38;5;28;01mNone\u001b[39;00m:\n\u001b[1;32m    129\u001b[0m     artifact_uri \u001b[38;5;241m=\u001b[39m DEFAULT_LOCAL_FILE_AND_ARTIFACT_PATH\n\u001b[0;32m--> 130\u001b[0m \u001b[38;5;28;01mreturn\u001b[39;00m SqlAlchemyStore(store_uri, artifact_uri)\n",
      "File \u001b[0;32m~/anaconda3/envs/ds_toolkit/lib/python3.11/site-packages/mlflow/store/tracking/sqlalchemy_store.py:157\u001b[0m, in \u001b[0;36mSqlAlchemyStore.__init__\u001b[0;34m(self, db_uri, default_artifact_root)\u001b[0m\n\u001b[1;32m    153\u001b[0m \u001b[38;5;66;03m# On a completely fresh MLflow installation against an empty database (verify database\u001b[39;00m\n\u001b[1;32m    154\u001b[0m \u001b[38;5;66;03m# emptiness by checking that 'experiments' etc aren't in the list of table names), run all\u001b[39;00m\n\u001b[1;32m    155\u001b[0m \u001b[38;5;66;03m# DB migrations\u001b[39;00m\n\u001b[1;32m    156\u001b[0m \u001b[38;5;28;01mif\u001b[39;00m \u001b[38;5;129;01mnot\u001b[39;00m mlflow\u001b[38;5;241m.\u001b[39mstore\u001b[38;5;241m.\u001b[39mdb\u001b[38;5;241m.\u001b[39mutils\u001b[38;5;241m.\u001b[39m_all_tables_exist(\u001b[38;5;28mself\u001b[39m\u001b[38;5;241m.\u001b[39mengine):\n\u001b[0;32m--> 157\u001b[0m     mlflow\u001b[38;5;241m.\u001b[39mstore\u001b[38;5;241m.\u001b[39mdb\u001b[38;5;241m.\u001b[39mutils\u001b[38;5;241m.\u001b[39m_initialize_tables(\u001b[38;5;28mself\u001b[39m\u001b[38;5;241m.\u001b[39mengine)\n\u001b[1;32m    158\u001b[0m SessionMaker \u001b[38;5;241m=\u001b[39m sqlalchemy\u001b[38;5;241m.\u001b[39morm\u001b[38;5;241m.\u001b[39msessionmaker(bind\u001b[38;5;241m=\u001b[39m\u001b[38;5;28mself\u001b[39m\u001b[38;5;241m.\u001b[39mengine)\n\u001b[1;32m    159\u001b[0m \u001b[38;5;28mself\u001b[39m\u001b[38;5;241m.\u001b[39mManagedSessionMaker \u001b[38;5;241m=\u001b[39m mlflow\u001b[38;5;241m.\u001b[39mstore\u001b[38;5;241m.\u001b[39mdb\u001b[38;5;241m.\u001b[39mutils\u001b[38;5;241m.\u001b[39m_get_managed_session_maker(\n\u001b[1;32m    160\u001b[0m     SessionMaker, \u001b[38;5;28mself\u001b[39m\u001b[38;5;241m.\u001b[39mdb_type\n\u001b[1;32m    161\u001b[0m )\n",
      "File \u001b[0;32m~/anaconda3/envs/ds_toolkit/lib/python3.11/site-packages/mlflow/store/db/utils.py:92\u001b[0m, in \u001b[0;36m_initialize_tables\u001b[0;34m(engine)\u001b[0m\n\u001b[1;32m     90\u001b[0m _logger\u001b[38;5;241m.\u001b[39minfo(\u001b[38;5;124m\"\u001b[39m\u001b[38;5;124mCreating initial MLflow database tables...\u001b[39m\u001b[38;5;124m\"\u001b[39m)\n\u001b[1;32m     91\u001b[0m InitialBase\u001b[38;5;241m.\u001b[39mmetadata\u001b[38;5;241m.\u001b[39mcreate_all(engine)\n\u001b[0;32m---> 92\u001b[0m _upgrade_db(engine)\n",
      "File \u001b[0;32m~/anaconda3/envs/ds_toolkit/lib/python3.11/site-packages/mlflow/store/db/utils.py:217\u001b[0m, in \u001b[0;36m_upgrade_db\u001b[0;34m(engine)\u001b[0m\n\u001b[1;32m    215\u001b[0m \u001b[38;5;28;01mwith\u001b[39;00m engine\u001b[38;5;241m.\u001b[39mbegin() \u001b[38;5;28;01mas\u001b[39;00m connection:\n\u001b[1;32m    216\u001b[0m     config\u001b[38;5;241m.\u001b[39mattributes[\u001b[38;5;124m\"\u001b[39m\u001b[38;5;124mconnection\u001b[39m\u001b[38;5;124m\"\u001b[39m] \u001b[38;5;241m=\u001b[39m connection\n\u001b[0;32m--> 217\u001b[0m     command\u001b[38;5;241m.\u001b[39mupgrade(config, \u001b[38;5;124m\"\u001b[39m\u001b[38;5;124mheads\u001b[39m\u001b[38;5;124m\"\u001b[39m)\n",
      "File \u001b[0;32m~/anaconda3/envs/ds_toolkit/lib/python3.11/site-packages/alembic/command.py:322\u001b[0m, in \u001b[0;36mupgrade\u001b[0;34m(config, revision, sql, tag)\u001b[0m\n\u001b[1;32m    311\u001b[0m     \u001b[38;5;28;01mreturn\u001b[39;00m script\u001b[38;5;241m.\u001b[39m_upgrade_revs(revision, rev)\n\u001b[1;32m    313\u001b[0m \u001b[38;5;28;01mwith\u001b[39;00m EnvironmentContext(\n\u001b[1;32m    314\u001b[0m     config,\n\u001b[1;32m    315\u001b[0m     script,\n\u001b[0;32m   (...)\u001b[0m\n\u001b[1;32m    320\u001b[0m     tag\u001b[38;5;241m=\u001b[39mtag,\n\u001b[1;32m    321\u001b[0m ):\n\u001b[0;32m--> 322\u001b[0m     script\u001b[38;5;241m.\u001b[39mrun_env()\n",
      "File \u001b[0;32m~/anaconda3/envs/ds_toolkit/lib/python3.11/site-packages/alembic/script/base.py:569\u001b[0m, in \u001b[0;36mScriptDirectory.run_env\u001b[0;34m(self)\u001b[0m\n\u001b[1;32m    560\u001b[0m \u001b[38;5;28;01mdef\u001b[39;00m \u001b[38;5;21mrun_env\u001b[39m(\u001b[38;5;28mself\u001b[39m) \u001b[38;5;241m-\u001b[39m\u001b[38;5;241m>\u001b[39m \u001b[38;5;28;01mNone\u001b[39;00m:\n\u001b[1;32m    561\u001b[0m     \u001b[38;5;124;03m\"\"\"Run the script environment.\u001b[39;00m\n\u001b[1;32m    562\u001b[0m \n\u001b[1;32m    563\u001b[0m \u001b[38;5;124;03m    This basically runs the ``env.py`` script present\u001b[39;00m\n\u001b[0;32m   (...)\u001b[0m\n\u001b[1;32m    567\u001b[0m \n\u001b[1;32m    568\u001b[0m \u001b[38;5;124;03m    \"\"\"\u001b[39;00m\n\u001b[0;32m--> 569\u001b[0m     util\u001b[38;5;241m.\u001b[39mload_python_file(\u001b[38;5;28mself\u001b[39m\u001b[38;5;241m.\u001b[39mdir, \u001b[38;5;124m\"\u001b[39m\u001b[38;5;124menv.py\u001b[39m\u001b[38;5;124m\"\u001b[39m)\n",
      "File \u001b[0;32m~/anaconda3/envs/ds_toolkit/lib/python3.11/site-packages/alembic/util/pyfiles.py:94\u001b[0m, in \u001b[0;36mload_python_file\u001b[0;34m(dir_, filename)\u001b[0m\n\u001b[1;32m     92\u001b[0m \u001b[38;5;28;01mif\u001b[39;00m ext \u001b[38;5;241m==\u001b[39m \u001b[38;5;124m\"\u001b[39m\u001b[38;5;124m.py\u001b[39m\u001b[38;5;124m\"\u001b[39m:\n\u001b[1;32m     93\u001b[0m     \u001b[38;5;28;01mif\u001b[39;00m os\u001b[38;5;241m.\u001b[39mpath\u001b[38;5;241m.\u001b[39mexists(path):\n\u001b[0;32m---> 94\u001b[0m         module \u001b[38;5;241m=\u001b[39m load_module_py(module_id, path)\n\u001b[1;32m     95\u001b[0m     \u001b[38;5;28;01melse\u001b[39;00m:\n\u001b[1;32m     96\u001b[0m         pyc_path \u001b[38;5;241m=\u001b[39m pyc_file_from_path(path)\n",
      "File \u001b[0;32m~/anaconda3/envs/ds_toolkit/lib/python3.11/site-packages/alembic/util/pyfiles.py:110\u001b[0m, in \u001b[0;36mload_module_py\u001b[0;34m(module_id, path)\u001b[0m\n\u001b[1;32m    108\u001b[0m \u001b[38;5;28;01massert\u001b[39;00m spec\n\u001b[1;32m    109\u001b[0m module \u001b[38;5;241m=\u001b[39m importlib\u001b[38;5;241m.\u001b[39mutil\u001b[38;5;241m.\u001b[39mmodule_from_spec(spec)\n\u001b[0;32m--> 110\u001b[0m spec\u001b[38;5;241m.\u001b[39mloader\u001b[38;5;241m.\u001b[39mexec_module(module)  \u001b[38;5;66;03m# type: ignore\u001b[39;00m\n\u001b[1;32m    111\u001b[0m \u001b[38;5;28;01mreturn\u001b[39;00m module\n",
      "File \u001b[0;32m<frozen importlib._bootstrap_external>:940\u001b[0m, in \u001b[0;36mexec_module\u001b[0;34m(self, module)\u001b[0m\n",
      "File \u001b[0;32m<frozen importlib._bootstrap>:241\u001b[0m, in \u001b[0;36m_call_with_frames_removed\u001b[0;34m(f, *args, **kwds)\u001b[0m\n",
      "File \u001b[0;32m~/anaconda3/envs/ds_toolkit/lib/python3.11/site-packages/mlflow/store/db_migrations/env.py:86\u001b[0m\n\u001b[1;32m     84\u001b[0m     run_migrations_offline()\n\u001b[1;32m     85\u001b[0m \u001b[38;5;28;01melse\u001b[39;00m:\n\u001b[0;32m---> 86\u001b[0m     run_migrations_online()\n",
      "File \u001b[0;32m~/anaconda3/envs/ds_toolkit/lib/python3.11/site-packages/mlflow/store/db_migrations/env.py:80\u001b[0m, in \u001b[0;36mrun_migrations_online\u001b[0;34m()\u001b[0m\n\u001b[1;32m     75\u001b[0m context\u001b[38;5;241m.\u001b[39mconfigure(\n\u001b[1;32m     76\u001b[0m     connection\u001b[38;5;241m=\u001b[39mconnection, target_metadata\u001b[38;5;241m=\u001b[39mtarget_metadata, render_as_batch\u001b[38;5;241m=\u001b[39m\u001b[38;5;28;01mTrue\u001b[39;00m\n\u001b[1;32m     77\u001b[0m )\n\u001b[1;32m     79\u001b[0m \u001b[38;5;28;01mwith\u001b[39;00m context\u001b[38;5;241m.\u001b[39mbegin_transaction():\n\u001b[0;32m---> 80\u001b[0m     context\u001b[38;5;241m.\u001b[39mrun_migrations()\n",
      "File \u001b[0;32m<string>:8\u001b[0m, in \u001b[0;36mrun_migrations\u001b[0;34m(*args, **kw)\u001b[0m\n",
      "File \u001b[0;32m~/anaconda3/envs/ds_toolkit/lib/python3.11/site-packages/alembic/runtime/environment.py:853\u001b[0m, in \u001b[0;36mEnvironmentContext.run_migrations\u001b[0;34m(self, **kw)\u001b[0m\n\u001b[1;32m    851\u001b[0m \u001b[38;5;28;01massert\u001b[39;00m \u001b[38;5;28mself\u001b[39m\u001b[38;5;241m.\u001b[39m_migration_context \u001b[38;5;129;01mis\u001b[39;00m \u001b[38;5;129;01mnot\u001b[39;00m \u001b[38;5;28;01mNone\u001b[39;00m\n\u001b[1;32m    852\u001b[0m \u001b[38;5;28;01mwith\u001b[39;00m Operations\u001b[38;5;241m.\u001b[39mcontext(\u001b[38;5;28mself\u001b[39m\u001b[38;5;241m.\u001b[39m_migration_context):\n\u001b[0;32m--> 853\u001b[0m     \u001b[38;5;28mself\u001b[39m\u001b[38;5;241m.\u001b[39mget_context()\u001b[38;5;241m.\u001b[39mrun_migrations(\u001b[38;5;241m*\u001b[39m\u001b[38;5;241m*\u001b[39mkw)\n",
      "File \u001b[0;32m~/anaconda3/envs/ds_toolkit/lib/python3.11/site-packages/alembic/runtime/migration.py:611\u001b[0m, in \u001b[0;36mMigrationContext.run_migrations\u001b[0;34m(self, **kw)\u001b[0m\n\u001b[1;32m    608\u001b[0m head_maintainer \u001b[38;5;241m=\u001b[39m HeadMaintainer(\u001b[38;5;28mself\u001b[39m, heads)\n\u001b[1;32m    610\u001b[0m \u001b[38;5;28;01massert\u001b[39;00m \u001b[38;5;28mself\u001b[39m\u001b[38;5;241m.\u001b[39m_migrations_fn \u001b[38;5;129;01mis\u001b[39;00m \u001b[38;5;129;01mnot\u001b[39;00m \u001b[38;5;28;01mNone\u001b[39;00m\n\u001b[0;32m--> 611\u001b[0m \u001b[38;5;28;01mfor\u001b[39;00m step \u001b[38;5;129;01min\u001b[39;00m \u001b[38;5;28mself\u001b[39m\u001b[38;5;241m.\u001b[39m_migrations_fn(heads, \u001b[38;5;28mself\u001b[39m):\n\u001b[1;32m    612\u001b[0m     \u001b[38;5;28;01mwith\u001b[39;00m \u001b[38;5;28mself\u001b[39m\u001b[38;5;241m.\u001b[39mbegin_transaction(_per_migration\u001b[38;5;241m=\u001b[39m\u001b[38;5;28;01mTrue\u001b[39;00m):\n\u001b[1;32m    614\u001b[0m         \u001b[38;5;28;01mif\u001b[39;00m \u001b[38;5;28mself\u001b[39m\u001b[38;5;241m.\u001b[39mas_sql \u001b[38;5;129;01mand\u001b[39;00m \u001b[38;5;129;01mnot\u001b[39;00m head_maintainer\u001b[38;5;241m.\u001b[39mheads:\n\u001b[1;32m    615\u001b[0m             \u001b[38;5;66;03m# for offline mode, include a CREATE TABLE from\u001b[39;00m\n\u001b[1;32m    616\u001b[0m             \u001b[38;5;66;03m# the base\u001b[39;00m\n",
      "File \u001b[0;32m~/anaconda3/envs/ds_toolkit/lib/python3.11/site-packages/alembic/command.py:311\u001b[0m, in \u001b[0;36mupgrade.<locals>.upgrade\u001b[0;34m(rev, context)\u001b[0m\n\u001b[1;32m    310\u001b[0m \u001b[38;5;28;01mdef\u001b[39;00m \u001b[38;5;21mupgrade\u001b[39m(rev, context):\n\u001b[0;32m--> 311\u001b[0m     \u001b[38;5;28;01mreturn\u001b[39;00m script\u001b[38;5;241m.\u001b[39m_upgrade_revs(revision, rev)\n",
      "File \u001b[0;32m~/anaconda3/envs/ds_toolkit/lib/python3.11/site-packages/alembic/script/base.py:431\u001b[0m, in \u001b[0;36mScriptDirectory._upgrade_revs\u001b[0;34m(self, destination, current_rev)\u001b[0m\n\u001b[1;32m    428\u001b[0m \u001b[38;5;28;01mdef\u001b[39;00m \u001b[38;5;21m_upgrade_revs\u001b[39m(\n\u001b[1;32m    429\u001b[0m     \u001b[38;5;28mself\u001b[39m, destination: \u001b[38;5;28mstr\u001b[39m, current_rev: \u001b[38;5;28mstr\u001b[39m\n\u001b[1;32m    430\u001b[0m ) \u001b[38;5;241m-\u001b[39m\u001b[38;5;241m>\u001b[39m List[RevisionStep]:\n\u001b[0;32m--> 431\u001b[0m     \u001b[38;5;28;01mwith\u001b[39;00m \u001b[38;5;28mself\u001b[39m\u001b[38;5;241m.\u001b[39m_catch_revision_errors(\n\u001b[1;32m    432\u001b[0m         ancestor\u001b[38;5;241m=\u001b[39m\u001b[38;5;124m\"\u001b[39m\u001b[38;5;124mDestination \u001b[39m\u001b[38;5;132;01m%(end)s\u001b[39;00m\u001b[38;5;124m is not a valid upgrade \u001b[39m\u001b[38;5;124m\"\u001b[39m\n\u001b[1;32m    433\u001b[0m         \u001b[38;5;124m\"\u001b[39m\u001b[38;5;124mtarget from current head(s)\u001b[39m\u001b[38;5;124m\"\u001b[39m,\n\u001b[1;32m    434\u001b[0m         end\u001b[38;5;241m=\u001b[39mdestination,\n\u001b[1;32m    435\u001b[0m     ):\n\u001b[1;32m    436\u001b[0m         revs \u001b[38;5;241m=\u001b[39m \u001b[38;5;28mself\u001b[39m\u001b[38;5;241m.\u001b[39miterate_revisions(\n\u001b[1;32m    437\u001b[0m             destination, current_rev, implicit_base\u001b[38;5;241m=\u001b[39m\u001b[38;5;28;01mTrue\u001b[39;00m\n\u001b[1;32m    438\u001b[0m         )\n\u001b[1;32m    439\u001b[0m         \u001b[38;5;28;01mreturn\u001b[39;00m [\n\u001b[1;32m    440\u001b[0m             migration\u001b[38;5;241m.\u001b[39mMigrationStep\u001b[38;5;241m.\u001b[39mupgrade_from_script(\n\u001b[1;32m    441\u001b[0m                 \u001b[38;5;28mself\u001b[39m\u001b[38;5;241m.\u001b[39mrevision_map, script\n\u001b[1;32m    442\u001b[0m             )\n\u001b[1;32m    443\u001b[0m             \u001b[38;5;28;01mfor\u001b[39;00m script \u001b[38;5;129;01min\u001b[39;00m \u001b[38;5;28mreversed\u001b[39m(\u001b[38;5;28mlist\u001b[39m(revs))\n\u001b[1;32m    444\u001b[0m         ]\n",
      "File \u001b[0;32m~/anaconda3/envs/ds_toolkit/lib/python3.11/contextlib.py:155\u001b[0m, in \u001b[0;36m_GeneratorContextManager.__exit__\u001b[0;34m(self, typ, value, traceback)\u001b[0m\n\u001b[1;32m    153\u001b[0m     value \u001b[38;5;241m=\u001b[39m typ()\n\u001b[1;32m    154\u001b[0m \u001b[38;5;28;01mtry\u001b[39;00m:\n\u001b[0;32m--> 155\u001b[0m     \u001b[38;5;28mself\u001b[39m\u001b[38;5;241m.\u001b[39mgen\u001b[38;5;241m.\u001b[39mthrow(typ, value, traceback)\n\u001b[1;32m    156\u001b[0m \u001b[38;5;28;01mexcept\u001b[39;00m \u001b[38;5;167;01mStopIteration\u001b[39;00m \u001b[38;5;28;01mas\u001b[39;00m exc:\n\u001b[1;32m    157\u001b[0m     \u001b[38;5;66;03m# Suppress StopIteration *unless* it's the same exception that\u001b[39;00m\n\u001b[1;32m    158\u001b[0m     \u001b[38;5;66;03m# was passed to throw().  This prevents a StopIteration\u001b[39;00m\n\u001b[1;32m    159\u001b[0m     \u001b[38;5;66;03m# raised inside the \"with\" statement from being suppressed.\u001b[39;00m\n\u001b[1;32m    160\u001b[0m     \u001b[38;5;28;01mreturn\u001b[39;00m exc \u001b[38;5;129;01mis\u001b[39;00m \u001b[38;5;129;01mnot\u001b[39;00m value\n",
      "File \u001b[0;32m~/anaconda3/envs/ds_toolkit/lib/python3.11/site-packages/alembic/script/base.py:265\u001b[0m, in \u001b[0;36mScriptDirectory._catch_revision_errors\u001b[0;34m(self, ancestor, multiple_heads, start, end, resolution)\u001b[0m\n\u001b[1;32m    261\u001b[0m     \u001b[38;5;28;01mif\u001b[39;00m resolution \u001b[38;5;129;01mis\u001b[39;00m \u001b[38;5;28;01mNone\u001b[39;00m:\n\u001b[1;32m    262\u001b[0m         resolution \u001b[38;5;241m=\u001b[39m \u001b[38;5;124m\"\u001b[39m\u001b[38;5;124mCan\u001b[39m\u001b[38;5;124m'\u001b[39m\u001b[38;5;124mt locate revision identified by \u001b[39m\u001b[38;5;124m'\u001b[39m\u001b[38;5;132;01m%s\u001b[39;00m\u001b[38;5;124m'\u001b[39m\u001b[38;5;124m\"\u001b[39m \u001b[38;5;241m%\u001b[39m (\n\u001b[1;32m    263\u001b[0m             re\u001b[38;5;241m.\u001b[39margument\n\u001b[1;32m    264\u001b[0m         )\n\u001b[0;32m--> 265\u001b[0m     \u001b[38;5;28;01mraise\u001b[39;00m util\u001b[38;5;241m.\u001b[39mCommandError(resolution) \u001b[38;5;28;01mfrom\u001b[39;00m \u001b[38;5;21;01mre\u001b[39;00m\n\u001b[1;32m    266\u001b[0m \u001b[38;5;28;01mexcept\u001b[39;00m revision\u001b[38;5;241m.\u001b[39mRevisionError \u001b[38;5;28;01mas\u001b[39;00m err:\n\u001b[1;32m    267\u001b[0m     \u001b[38;5;28;01mraise\u001b[39;00m util\u001b[38;5;241m.\u001b[39mCommandError(err\u001b[38;5;241m.\u001b[39margs[\u001b[38;5;241m0\u001b[39m]) \u001b[38;5;28;01mfrom\u001b[39;00m \u001b[38;5;21;01merr\u001b[39;00m\n",
      "\u001b[0;31mCommandError\u001b[0m: Can't locate revision identified by '867495a8f9d4'"
     ]
    }
   ],
   "source": [
    "mlflow.set_experiment(\"nyc-taxi-experiment\")"
   ]
  },
  {
   "cell_type": "code",
   "execution_count": 14,
   "metadata": {},
   "outputs": [],
   "source": [
    "X_train, y_train = load_pickle(os.path.join(data_path, \"train.pkl\"))\n",
    "X_val, y_val = load_pickle(os.path.join(data_path, \"val.pkl\"))\n",
    "\n",
    "rf = RandomForestRegressor(max_depth=10, random_state=0)\n",
    "rf.fit(X_train, y_train)\n",
    "y_pred = rf.predict(X_val)\n",
    "\n",
    "rmse = mean_squared_error(y_val, y_pred, squared=False)"
   ]
  },
  {
   "cell_type": "code",
   "execution_count": 18,
   "metadata": {},
   "outputs": [
    {
     "data": {
      "text/plain": [
       "['Usage: mlflow [OPTIONS] COMMAND [ARGS]...',\n",
       " '',\n",
       " 'Options:',\n",
       " '  --version  Show the version and exit.',\n",
       " '  --help     Show this message and exit.',\n",
       " '',\n",
       " 'Commands:',\n",
       " '  artifacts    Upload, list, and download artifacts from an MLflow...',\n",
       " '  db           Commands for managing an MLflow tracking database.',\n",
       " '  deployments  Deploy MLflow models to custom targets.',\n",
       " '  doctor       Prints out useful information for debugging issues with MLflow.',\n",
       " '  experiments  Manage experiments.',\n",
       " '  gc           Permanently delete runs in the `deleted` lifecycle stage.',\n",
       " '  models       Deploy MLflow models locally.',\n",
       " '  recipes      Run MLflow Recipes and inspect recipe results.',\n",
       " '  run          Run an MLflow project from the given URI.',\n",
       " '  runs         Manage runs.',\n",
       " '  sagemaker    Serve models on SageMaker.',\n",
       " '  server       Run the MLflow tracking server.']"
      ]
     },
     "execution_count": 18,
     "metadata": {},
     "output_type": "execute_result"
    }
   ],
   "source": [
    "import mlflow\n",
    "\n",
    "%system mlflow --help"
   ]
  }
 ],
 "metadata": {
  "kernelspec": {
   "display_name": "ds_toolkit",
   "language": "python",
   "name": "python3"
  },
  "language_info": {
   "codemirror_mode": {
    "name": "ipython",
    "version": 3
   },
   "file_extension": ".py",
   "mimetype": "text/x-python",
   "name": "python",
   "nbconvert_exporter": "python",
   "pygments_lexer": "ipython3",
   "version": "3.11.0"
  }
 },
 "nbformat": 4,
 "nbformat_minor": 2
}
