{
 "cells": [
  {
   "cell_type": "code",
   "execution_count": 36,
   "metadata": {},
   "outputs": [],
   "source": [
    "def f(a):\n",
    "    s=0\n",
    "    for array in a:\n",
    "        s = s + len(array)\n",
    "    print(s)\n",
    "    position = int(s//2)\n",
    "    t=0\n",
    "    if s%2!=0:\n",
    "        print(f'odd: find the {int(s//2)} position')\n",
    "        for array in a:\n",
    "            if position < t + len(array):\n",
    "                return array[position-t]\n",
    "            else:\n",
    "                t = t + len(array)\n",
    "    else:\n",
    "        print(f'even: find the mean from {int(s//2)-1} and {int(s//2)} positioned elements')\n",
    "        for array in a:\n",
    "            if (position - 1 < t + len(array))&(position < t + len(array)):\n",
    "                return (array[position-1-t]+array[position-t])/2\n",
    "            if (position - 1 < t + len(array))&(position >= t + len(array)):\n",
    "                return (array[position-1-t]+a[a.index(array)+1][0])/2\n",
    "            else:\n",
    "                t = t + len(array)\n",
    "\n"
   ]
  },
  {
   "cell_type": "code",
   "execution_count": 63,
   "metadata": {},
   "outputs": [
    {
     "data": {
      "text/plain": [
       "1"
      ]
     },
     "execution_count": 63,
     "metadata": {},
     "output_type": "execute_result"
    }
   ],
   "source": [
    "arrays =[[2,3,4],[1,5],[100,101]]\n",
    "first = [a[0] for a in arrays]\n",
    "lengths = [len(a) for a in arrays]\n",
    "#total_length = lengths.sum()\n",
    "\n",
    "arrays[first.index(sorted(first)[0])].pop(0)"
   ]
  },
  {
   "cell_type": "code",
   "execution_count": 64,
   "metadata": {},
   "outputs": [
    {
     "data": {
      "text/plain": [
       "3"
      ]
     },
     "execution_count": 64,
     "metadata": {},
     "output_type": "execute_result"
    }
   ],
   "source": [
    "sum(lengths)\n",
    "\n",
    "sum(lengths)//2"
   ]
  },
  {
   "cell_type": "code",
   "execution_count": 125,
   "metadata": {},
   "outputs": [],
   "source": [
    "def median_sorted_arrays(arrays):\n",
    "    from collections import deque\n",
    "    lengths = [len(a) for a in arrays]\n",
    "    sorted = deque([],maxlen=2)\n",
    "    median_length = sum(lengths)//2\n",
    "    while len(sorted) <= median_length:\n",
    "        for i, a in enumerate(arrays):\n",
    "            if len(a) == 0:\n",
    "                arrays.pop(i)\n",
    "        first = [a[0] for a in arrays if len(a)>0]\n",
    "        print(first)\n",
    "        min_value = min(first)\n",
    "        print(min_value)\n",
    "        sorted.append(min_value)\n",
    "        print(a)\n",
    "        target_array = arrays[first.index(min_value)]\n",
    "        print(target_array)\n",
    "        if len(target_array) == 1:\n",
    "            arrays.pop(first.index(min_value))\n",
    "        else:\n",
    "            target_array.pop(0)\n",
    "        print(target_array)\n",
    "\n",
    "    return sorted[-1] if sum(lengths)%2==1 else int((sorted[-1]+ sorted[-2])/2)"
   ]
  },
  {
   "cell_type": "code",
   "execution_count": 136,
   "metadata": {},
   "outputs": [],
   "source": [
    "def median_from_n_arrays(arrays):\n",
    "    lengths = [len(a) for a in arrays]\n",
    "    print(lengths)\n",
    "    from collections import deque\n",
    "    sorted = deque([], maxlen=2) \n",
    "    counter = 0\n",
    "    median_length = sum(lengths)//2\n",
    "    print(median_length)\n",
    "    while counter <= median_length:\n",
    "        counter += 1\n",
    "        for i, b in enumerate(arrays):\n",
    "            if len(b) == 0:\n",
    "                arrays.pop(i)\n",
    "        first = [c[0] for c in arrays]\n",
    "        min_value = min(first)\n",
    "        sorted.append(min_value)\n",
    "        print(sorted)\n",
    "        target_array = arrays[first.index(min_value)]\n",
    "        if len(target_array) == 1:\n",
    "            arrays.pop(first.index(min_value))\n",
    "        else:\n",
    "            target_array.pop(0)\n",
    "\n",
    "    return sorted[-1] if sum(lengths)%2==1 else (sorted[-1]+ sorted[-2])/2"
   ]
  },
  {
   "cell_type": "code",
   "execution_count": 137,
   "metadata": {},
   "outputs": [
    {
     "name": "stdout",
     "output_type": "stream",
     "text": [
      "[3, 3, 2]\n",
      "4\n",
      "deque([1], maxlen=2)\n",
      "deque([1, 2], maxlen=2)\n",
      "deque([2, 3], maxlen=2)\n",
      "deque([3, 4], maxlen=2)\n",
      "deque([4, 8], maxlen=2)\n"
     ]
    },
    {
     "data": {
      "text/plain": [
       "6.0"
      ]
     },
     "execution_count": 137,
     "metadata": {},
     "output_type": "execute_result"
    }
   ],
   "source": [
    "arr = [[1,8,10],[2,3,4],[12,20]]\n",
    "median_from_n_arrays(arr)"
   ]
  },
  {
   "cell_type": "code",
   "execution_count": 127,
   "metadata": {},
   "outputs": [
    {
     "name": "stdout",
     "output_type": "stream",
     "text": [
      "[1, 2, 12]\n",
      "1\n",
      "[12, 20]\n",
      "[1, 8, 10]\n",
      "[8, 10]\n",
      "[8, 2, 12]\n",
      "2\n",
      "[12, 20]\n",
      "[2, 3, 4]\n",
      "[3, 4]\n",
      "[8, 3, 12]\n",
      "3\n",
      "[12, 20]\n",
      "[3, 4]\n",
      "[4]\n",
      "[8, 4, 12]\n",
      "4\n",
      "[12, 20]\n",
      "[4]\n",
      "[4]\n",
      "[8, 12]\n",
      "8\n",
      "[12, 20]\n",
      "[8, 10]\n",
      "[10]\n",
      "[10, 12]\n",
      "10\n",
      "[12, 20]\n",
      "[10]\n",
      "[10]\n",
      "[12]\n",
      "12\n",
      "[12, 20]\n",
      "[12, 20]\n",
      "[20]\n",
      "[20]\n",
      "20\n",
      "[20]\n",
      "[20]\n",
      "[20]\n",
      "[]\n"
     ]
    },
    {
     "ename": "ValueError",
     "evalue": "min() arg is an empty sequence",
     "output_type": "error",
     "traceback": [
      "\u001b[0;31m---------------------------------------------------------------------------\u001b[0m",
      "\u001b[0;31mValueError\u001b[0m                                Traceback (most recent call last)",
      "Cell \u001b[0;32mIn [127], line 4\u001b[0m\n\u001b[1;32m      1\u001b[0m \u001b[38;5;66;03m#arr =  [[1,8,10],[2,3,4],[12,20]]\u001b[39;00m\n\u001b[1;32m      2\u001b[0m \u001b[38;5;66;03m#arr = [[],[2,3,4]]\u001b[39;00m\n\u001b[1;32m      3\u001b[0m arr \u001b[38;5;241m=\u001b[39m [[\u001b[38;5;241m1\u001b[39m,\u001b[38;5;241m8\u001b[39m,\u001b[38;5;241m10\u001b[39m],[\u001b[38;5;241m2\u001b[39m,\u001b[38;5;241m3\u001b[39m,\u001b[38;5;241m4\u001b[39m],[\u001b[38;5;241m12\u001b[39m,\u001b[38;5;241m20\u001b[39m]]\n\u001b[0;32m----> 4\u001b[0m median_sorted_arrays(arr)\n",
      "Cell \u001b[0;32mIn [125], line 12\u001b[0m, in \u001b[0;36mmedian_sorted_arrays\u001b[0;34m(arrays)\u001b[0m\n\u001b[1;32m     10\u001b[0m first \u001b[38;5;241m=\u001b[39m [a[\u001b[38;5;241m0\u001b[39m] \u001b[38;5;28;01mfor\u001b[39;00m a \u001b[38;5;129;01min\u001b[39;00m arrays \u001b[38;5;28;01mif\u001b[39;00m \u001b[38;5;28mlen\u001b[39m(a)\u001b[38;5;241m>\u001b[39m\u001b[38;5;241m0\u001b[39m]\n\u001b[1;32m     11\u001b[0m \u001b[38;5;28mprint\u001b[39m(first)\n\u001b[0;32m---> 12\u001b[0m min_value \u001b[38;5;241m=\u001b[39m \u001b[38;5;28mmin\u001b[39m(first)\n\u001b[1;32m     13\u001b[0m \u001b[38;5;28mprint\u001b[39m(min_value)\n\u001b[1;32m     14\u001b[0m \u001b[38;5;28msorted\u001b[39m\u001b[38;5;241m.\u001b[39mappend(min_value)\n",
      "\u001b[0;31mValueError\u001b[0m: min() arg is an empty sequence"
     ]
    }
   ],
   "source": [
    "#arr =  [[1,8,10],[2,3,4],[12,20]]\n",
    "#arr = [[],[2,3,4]]\n",
    "arr = [[1,8,10],[2,3,4],[12,20]]\n",
    "median_sorted_arrays(arr)"
   ]
  },
  {
   "cell_type": "code",
   "execution_count": 175,
   "metadata": {},
   "outputs": [],
   "source": [
    "def score(dice):\n",
    "    sol= 0\n",
    "    a = [dice.count(i) for i in range(1,7,1)]\n",
    "\n",
    "    for j,t in enumerate(a):\n",
    "        if j != 0 & j != 4:\n",
    "            print(\n",
    "            if t >= 3:\n",
    "                sol += (j+1)*100\n",
    "\n",
    "        if j == 0:\n",
    "            print(sol)\n",
    "            if t >= 3:\n",
    "                sol += 1000 + (t-3)*100\n",
    "            else:\n",
    "                sol += t*100\n",
    "\n",
    "        if j == 4:\n",
    "            print(sol)\n",
    "            if t >= 3:\n",
    "                sol = sol + 500 + (t-3)*50\n",
    "            else:\n",
    "                sol += t*50\n",
    "\n",
    "    return sol"
   ]
  },
  {
   "cell_type": "code",
   "execution_count": 176,
   "metadata": {},
   "outputs": [
    {
     "name": "stdout",
     "output_type": "stream",
     "text": [
      "0\n",
      "0\n",
      "0\n",
      "0\n",
      "0\n",
      "500\n",
      "1050\n"
     ]
    },
    {
     "data": {
      "text/plain": [
       "1050"
      ]
     },
     "execution_count": 176,
     "metadata": {},
     "output_type": "execute_result"
    }
   ],
   "source": [
    "dice = [5, 5, 5, 5, 6]\n",
    "\n",
    "score(dice)"
   ]
  },
  {
   "cell_type": "code",
   "execution_count": 182,
   "metadata": {},
   "outputs": [
    {
     "name": "stdout",
     "output_type": "stream",
     "text": [
      "1 0\n",
      "2 0\n",
      "3 0\n",
      "4 0\n",
      "5 4\n",
      "6 1\n"
     ]
    }
   ],
   "source": [
    "dice = [5, 5, 5, 5, 6]\n",
    "a = [dice.count(i) for i in range(1,7,1)]\n",
    "for j, t in enumerate(a):\n",
    "    print(j+1,t)"
   ]
  },
  {
   "cell_type": "code",
   "execution_count": null,
   "metadata": {},
   "outputs": [],
   "source": []
  }
 ],
 "metadata": {
  "kernelspec": {
   "display_name": "ds_toolkit",
   "language": "python",
   "name": "python3"
  },
  "language_info": {
   "codemirror_mode": {
    "name": "ipython",
    "version": 3
   },
   "file_extension": ".py",
   "mimetype": "text/x-python",
   "name": "python",
   "nbconvert_exporter": "python",
   "pygments_lexer": "ipython3",
   "version": "3.11.0"
  }
 },
 "nbformat": 4,
 "nbformat_minor": 2
}
